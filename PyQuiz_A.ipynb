{
 "cells": [
  {
   "cell_type": "markdown",
   "id": "77fde12a-c56c-4183-b402-23591cab6d49",
   "metadata": {
    "lines_to_next_cell": 2
   },
   "source": [
    "## Quiz1  - basic 1"
   ]
  },
  {
   "cell_type": "markdown",
   "id": "89cd7893-56d1-416e-9b9e-1a0afd941f4d",
   "metadata": {
    "lines_to_next_cell": 2
   },
   "source": [
    "Q1. 숫자 7을 담고 있는 변수를 만들어 출력하세요."
   ]
  },
  {
   "cell_type": "code",
   "execution_count": 1,
   "id": "72386412",
   "metadata": {
    "lines_to_next_cell": 2
   },
   "outputs": [
    {
     "data": {
      "text/plain": [
       "7"
      ]
     },
     "execution_count": 1,
     "metadata": {},
     "output_type": "execute_result"
    }
   ],
   "source": [
    "var1 = 7\n",
    "var1"
   ]
  },
  {
   "cell_type": "markdown",
   "id": "9f1d2680-6434-4309-880c-dd6687cb73de",
   "metadata": {
    "lines_to_next_cell": 2
   },
   "source": [
    "Q2. 문자 cup을 담고 있는 변수를 만들어 출력하세요. "
   ]
  },
  {
   "cell_type": "code",
   "execution_count": 2,
   "id": "a7b57f31",
   "metadata": {
    "lines_to_next_cell": 2
   },
   "outputs": [
    {
     "data": {
      "text/plain": [
       "'cup'"
      ]
     },
     "execution_count": 2,
     "metadata": {},
     "output_type": "execute_result"
    }
   ],
   "source": [
    "var2 = 'cup'\n",
    "var2"
   ]
  },
  {
   "cell_type": "markdown",
   "id": "e3408921-3b28-4c4e-862b-80a11141f02e",
   "metadata": {
    "lines_to_next_cell": 2
   },
   "source": [
    "Q3. 남자 세 명의 나이를 담고 있는 변수를 만들어 출력하세요. 각 사람의 나이는 다음과 같습니다. \n",
    "\n",
    "- 나이 : 21, 36, 42"
   ]
  },
  {
   "cell_type": "code",
   "execution_count": 3,
   "id": "bac45135",
   "metadata": {
    "lines_to_next_cell": 2
   },
   "outputs": [
    {
     "data": {
      "text/plain": [
       "[21, 36, 42]"
      ]
     },
     "execution_count": 3,
     "metadata": {},
     "output_type": "execute_result"
    }
   ],
   "source": [
    "male = [21, 36, 42]\n",
    "male"
   ]
  },
  {
   "cell_type": "markdown",
   "id": "66fe11f4-fb4a-4910-8e4c-548ed91338ec",
   "metadata": {
    "lines_to_next_cell": 2
   },
   "source": [
    "Q4. 앞 문제에서 만든 변수를 이용해서 남자 세 명의 평균 나이를 구하세요."
   ]
  },
  {
   "cell_type": "code",
   "execution_count": 4,
   "id": "1ebc4a8d-cbd2-413b-a622-35dc6fea5feb",
   "metadata": {
    "lines_to_next_cell": 2
   },
   "outputs": [
    {
     "data": {
      "text/plain": [
       "33.0"
      ]
     },
     "execution_count": 4,
     "metadata": {},
     "output_type": "execute_result"
    }
   ],
   "source": [
    "sum(male)/3"
   ]
  },
  {
   "cell_type": "code",
   "execution_count": 5,
   "id": "4a202dba-a898-4475-8993-719adbc05935",
   "metadata": {
    "lines_to_next_cell": 2
   },
   "outputs": [
    {
     "data": {
      "text/plain": [
       "33.0"
      ]
     },
     "execution_count": 5,
     "metadata": {},
     "output_type": "execute_result"
    }
   ],
   "source": [
    "sum(male)/len(male)"
   ]
  },
  {
   "cell_type": "markdown",
   "id": "81008776-12e6-458d-a370-3d173f6d6aae",
   "metadata": {
    "lines_to_next_cell": 2
   },
   "source": [
    "Q5. 남자 세 명의 평균 나이를 담고 있는 변수를 만들어 출력하세요."
   ]
  },
  {
   "cell_type": "code",
   "execution_count": 6,
   "id": "8eb290ae",
   "metadata": {
    "lines_to_next_cell": 2
   },
   "outputs": [
    {
     "data": {
      "text/plain": [
       "33.0"
      ]
     },
     "execution_count": 6,
     "metadata": {},
     "output_type": "execute_result"
    }
   ],
   "source": [
    "m_male = sum(male)/len(male)\n",
    "m_male"
   ]
  },
  {
   "cell_type": "markdown",
   "id": "a04150ad-69b2-4ca3-a193-a33bc697a859",
   "metadata": {
    "lines_to_next_cell": 2
   },
   "source": [
    "Q6. 여자 세 명의 나이를 담고 있는 변수를 만들어 출력하세요. 각 사람의 나이는 다음과 같습니다. \n",
    "\n",
    "- 나이 : 45, 53, 62"
   ]
  },
  {
   "cell_type": "code",
   "execution_count": 7,
   "id": "3380aad9",
   "metadata": {
    "lines_to_next_cell": 2
   },
   "outputs": [
    {
     "data": {
      "text/plain": [
       "[45, 53, 62]"
      ]
     },
     "execution_count": 7,
     "metadata": {},
     "output_type": "execute_result"
    }
   ],
   "source": [
    "female = [45, 53, 62]\n",
    "female"
   ]
  },
  {
   "cell_type": "markdown",
   "id": "42d27d13-f318-4cd0-a9f1-ad92a13e1ba2",
   "metadata": {
    "lines_to_next_cell": 2
   },
   "source": [
    "Q7. 여자 세 명의 평균 나이를 담고 있는 변수를 만들어 출력하세요."
   ]
  },
  {
   "cell_type": "code",
   "execution_count": 8,
   "id": "7a702a13",
   "metadata": {
    "lines_to_next_cell": 2
   },
   "outputs": [
    {
     "data": {
      "text/plain": [
       "53.333333333333336"
      ]
     },
     "execution_count": 8,
     "metadata": {},
     "output_type": "execute_result"
    }
   ],
   "source": [
    "m_female = sum(female)/len(female)\n",
    "m_female"
   ]
  },
  {
   "cell_type": "markdown",
   "id": "6500f75f-de9b-4463-8c0d-6fd5bfdf7601",
   "metadata": {
    "lines_to_next_cell": 2
   },
   "source": [
    "Q8. 남자와 여자의 평균 나이를 담고 있는 두 변수를 이용해서 남녀 나이 평균 차이를 구하세요."
   ]
  },
  {
   "cell_type": "code",
   "execution_count": 9,
   "id": "67ea312b",
   "metadata": {
    "lines_to_next_cell": 2
   },
   "outputs": [
    {
     "data": {
      "text/plain": [
       "-20.333333333333336"
      ]
     },
     "execution_count": 9,
     "metadata": {},
     "output_type": "execute_result"
    }
   ],
   "source": [
    "m_male-m_female"
   ]
  },
  {
   "cell_type": "markdown",
   "id": "72608dfa-5c67-4f32-873a-da0f9a6ae131",
   "metadata": {
    "lines_to_next_cell": 2
   },
   "source": [
    "Q9. 이름, 키, 몸무게 세 변수로 구성된 데이터 프레임을 만들어 출력하세요.\n",
    "\n",
    "- 이름   : kim, lee, park\n",
    "- 키     : 165, 182, 157\n",
    "- 몸무게 : 62, 89, 53"
   ]
  },
  {
   "cell_type": "code",
   "execution_count": 10,
   "id": "bb0aef01",
   "metadata": {
    "lines_to_next_cell": 2
   },
   "outputs": [
    {
     "data": {
      "text/html": [
       "<div>\n",
       "<style scoped>\n",
       "    .dataframe tbody tr th:only-of-type {\n",
       "        vertical-align: middle;\n",
       "    }\n",
       "\n",
       "    .dataframe tbody tr th {\n",
       "        vertical-align: top;\n",
       "    }\n",
       "\n",
       "    .dataframe thead th {\n",
       "        text-align: right;\n",
       "    }\n",
       "</style>\n",
       "<table border=\"1\" class=\"dataframe\">\n",
       "  <thead>\n",
       "    <tr style=\"text-align: right;\">\n",
       "      <th></th>\n",
       "      <th>name</th>\n",
       "      <th>cm</th>\n",
       "      <th>kg</th>\n",
       "    </tr>\n",
       "  </thead>\n",
       "  <tbody>\n",
       "    <tr>\n",
       "      <th>0</th>\n",
       "      <td>kim</td>\n",
       "      <td>165</td>\n",
       "      <td>62</td>\n",
       "    </tr>\n",
       "    <tr>\n",
       "      <th>1</th>\n",
       "      <td>lee</td>\n",
       "      <td>182</td>\n",
       "      <td>89</td>\n",
       "    </tr>\n",
       "    <tr>\n",
       "      <th>2</th>\n",
       "      <td>park</td>\n",
       "      <td>157</td>\n",
       "      <td>53</td>\n",
       "    </tr>\n",
       "  </tbody>\n",
       "</table>\n",
       "</div>"
      ],
      "text/plain": [
       "   name   cm  kg\n",
       "0   kim  165  62\n",
       "1   lee  182  89\n",
       "2  park  157  53"
      ]
     },
     "execution_count": 10,
     "metadata": {},
     "output_type": "execute_result"
    }
   ],
   "source": [
    "import pandas as pd\n",
    "df_b = pd.DataFrame({'name' : [\"kim\", \"lee\", \"park\"],\n",
    "                     'cm' : [165, 182, 157],\n",
    "                     'kg' : [62, 89, 53]})\n",
    "df_b"
   ]
  },
  {
   "cell_type": "markdown",
   "id": "38ba8125-7fb0-4a7a-8949-0f131c834fd2",
   "metadata": {
    "lines_to_next_cell": 2
   },
   "source": [
    "Q10. 앞에서 만든 데이터 프레임을 이용해 학생들의 평균 키, 평균 몸무게를 담고 있는 변수를 각각 만들어 출력하세요."
   ]
  },
  {
   "cell_type": "code",
   "execution_count": 11,
   "id": "5863b9ca",
   "metadata": {
    "lines_to_next_cell": 2
   },
   "outputs": [
    {
     "data": {
      "text/plain": [
       "168.0"
      ]
     },
     "execution_count": 11,
     "metadata": {},
     "output_type": "execute_result"
    }
   ],
   "source": [
    "m_cm = df_b['cm'].mean()\n",
    "m_cm"
   ]
  },
  {
   "cell_type": "code",
   "execution_count": 12,
   "id": "834cf567",
   "metadata": {
    "lines_to_next_cell": 2
   },
   "outputs": [
    {
     "data": {
      "text/plain": [
       "68.0"
      ]
     },
     "execution_count": 12,
     "metadata": {},
     "output_type": "execute_result"
    }
   ],
   "source": [
    "m_kg = df_b['kg'].mean()\n",
    "m_kg"
   ]
  },
  {
   "cell_type": "markdown",
   "id": "e5c9c263-2473-45fe-8680-49ab92a1b068",
   "metadata": {
    "lines_to_next_cell": 2
   },
   "source": [
    "## Quiz2 - basic 2"
   ]
  },
  {
   "cell_type": "markdown",
   "id": "3ae52fab-0d79-4c37-9eda-b17c15d0810d",
   "metadata": {
    "lines_to_next_cell": 2
   },
   "source": [
    "Q1. 학생 두 명의 이름과 시험 점수를 담은 데이터 프레임을 만들어 출력하세요.\n",
    "\n",
    "- 이름      : kim, park\n",
    "- 시험 점수 : 84, 65"
   ]
  },
  {
   "cell_type": "code",
   "execution_count": 13,
   "id": "fd07f475",
   "metadata": {
    "lines_to_next_cell": 2
   },
   "outputs": [
    {
     "data": {
      "text/html": [
       "<div>\n",
       "<style scoped>\n",
       "    .dataframe tbody tr th:only-of-type {\n",
       "        vertical-align: middle;\n",
       "    }\n",
       "\n",
       "    .dataframe tbody tr th {\n",
       "        vertical-align: top;\n",
       "    }\n",
       "\n",
       "    .dataframe thead th {\n",
       "        text-align: right;\n",
       "    }\n",
       "</style>\n",
       "<table border=\"1\" class=\"dataframe\">\n",
       "  <thead>\n",
       "    <tr style=\"text-align: right;\">\n",
       "      <th></th>\n",
       "      <th>name</th>\n",
       "      <th>score</th>\n",
       "    </tr>\n",
       "  </thead>\n",
       "  <tbody>\n",
       "    <tr>\n",
       "      <th>0</th>\n",
       "      <td>kim</td>\n",
       "      <td>84</td>\n",
       "    </tr>\n",
       "    <tr>\n",
       "      <th>1</th>\n",
       "      <td>park</td>\n",
       "      <td>65</td>\n",
       "    </tr>\n",
       "  </tbody>\n",
       "</table>\n",
       "</div>"
      ],
      "text/plain": [
       "   name  score\n",
       "0   kim     84\n",
       "1  park     65"
      ]
     },
     "execution_count": 13,
     "metadata": {},
     "output_type": "execute_result"
    }
   ],
   "source": [
    "import pandas as pd\n",
    "exam = pd.DataFrame({'name' : ['kim', 'park'],\n",
    "                     'score' : [84, 65]})\n",
    "exam"
   ]
  },
  {
   "cell_type": "markdown",
   "id": "0c48bf14-d000-48eb-9e57-f4d7695d8372",
   "metadata": {
    "lines_to_next_cell": 2
   },
   "source": [
    "Q2. 앞에서 만든 데이터 프레임을 csv 파일로 저장하세요."
   ]
  },
  {
   "cell_type": "code",
   "execution_count": 14,
   "id": "1fbd6f70",
   "metadata": {
    "lines_to_next_cell": 2
   },
   "outputs": [],
   "source": [
    "exam.to_csv('out_exam.csv', index = False)"
   ]
  },
  {
   "cell_type": "markdown",
   "id": "e5400929-f82c-43fc-b581-14530be2a603",
   "metadata": {
    "lines_to_next_cell": 2
   },
   "source": [
    "Q3. 앞에서 만든 데이터 프레임을 삭제한 후 삭제되었는지 확인하기 위해 데이터 프레임을 출력하세요."
   ]
  },
  {
   "cell_type": "code",
   "execution_count": 15,
   "id": "dcb9576f-be49-417c-bb4d-17005cb47589",
   "metadata": {
    "lines_to_next_cell": 2
   },
   "outputs": [],
   "source": [
    "del exam \n",
    "# exam"
   ]
  },
  {
   "cell_type": "markdown",
   "id": "3fb29df8-5439-4aeb-a462-34d8e99fd898",
   "metadata": {
    "lines_to_next_cell": 2
   },
   "source": [
    "Q4. 저장한 csv 파일을 불러온 후 score 평균을 출력하세요."
   ]
  },
  {
   "cell_type": "code",
   "execution_count": 16,
   "id": "34f4b6f5-6bcc-49e2-9dd5-1a4d97ddb92f",
   "metadata": {
    "lines_to_next_cell": 2
   },
   "outputs": [
    {
     "data": {
      "text/plain": [
       "74.5"
      ]
     },
     "execution_count": 16,
     "metadata": {},
     "output_type": "execute_result"
    }
   ],
   "source": [
    "exam = pd.read_csv('out_exam.csv')\n",
    "exam['score'].mean()"
   ]
  },
  {
   "cell_type": "markdown",
   "id": "ececed8c-fa24-48bd-8c08-15eb0b59c247",
   "metadata": {
    "lines_to_next_cell": 2
   },
   "source": [
    "Q5. 첨부된 raw.xlsx는 세 가지 과목(r, python, html)의 시험 점수를 담고 있습니다. 이 파일을 불러온 다음 잘 불러들여졌는지 확인하세요."
   ]
  },
  {
   "cell_type": "code",
   "execution_count": 17,
   "id": "a8f0f6d7-b8a6-4f4f-ae4c-2edde8dd8289",
   "metadata": {
    "lines_to_next_cell": 2
   },
   "outputs": [
    {
     "data": {
      "text/html": [
       "<div>\n",
       "<style scoped>\n",
       "    .dataframe tbody tr th:only-of-type {\n",
       "        vertical-align: middle;\n",
       "    }\n",
       "\n",
       "    .dataframe tbody tr th {\n",
       "        vertical-align: top;\n",
       "    }\n",
       "\n",
       "    .dataframe thead th {\n",
       "        text-align: right;\n",
       "    }\n",
       "</style>\n",
       "<table border=\"1\" class=\"dataframe\">\n",
       "  <thead>\n",
       "    <tr style=\"text-align: right;\">\n",
       "      <th></th>\n",
       "      <th>id</th>\n",
       "      <th>class</th>\n",
       "      <th>r</th>\n",
       "      <th>python</th>\n",
       "      <th>html</th>\n",
       "    </tr>\n",
       "  </thead>\n",
       "  <tbody>\n",
       "    <tr>\n",
       "      <th>0</th>\n",
       "      <td>1</td>\n",
       "      <td>1</td>\n",
       "      <td>50</td>\n",
       "      <td>50</td>\n",
       "      <td>98</td>\n",
       "    </tr>\n",
       "    <tr>\n",
       "      <th>1</th>\n",
       "      <td>2</td>\n",
       "      <td>1</td>\n",
       "      <td>60</td>\n",
       "      <td>60</td>\n",
       "      <td>97</td>\n",
       "    </tr>\n",
       "    <tr>\n",
       "      <th>2</th>\n",
       "      <td>3</td>\n",
       "      <td>1</td>\n",
       "      <td>45</td>\n",
       "      <td>78</td>\n",
       "      <td>86</td>\n",
       "    </tr>\n",
       "    <tr>\n",
       "      <th>3</th>\n",
       "      <td>4</td>\n",
       "      <td>2</td>\n",
       "      <td>30</td>\n",
       "      <td>58</td>\n",
       "      <td>98</td>\n",
       "    </tr>\n",
       "    <tr>\n",
       "      <th>4</th>\n",
       "      <td>5</td>\n",
       "      <td>2</td>\n",
       "      <td>25</td>\n",
       "      <td>65</td>\n",
       "      <td>80</td>\n",
       "    </tr>\n",
       "    <tr>\n",
       "      <th>5</th>\n",
       "      <td>6</td>\n",
       "      <td>2</td>\n",
       "      <td>50</td>\n",
       "      <td>98</td>\n",
       "      <td>89</td>\n",
       "    </tr>\n",
       "    <tr>\n",
       "      <th>6</th>\n",
       "      <td>7</td>\n",
       "      <td>3</td>\n",
       "      <td>80</td>\n",
       "      <td>45</td>\n",
       "      <td>90</td>\n",
       "    </tr>\n",
       "    <tr>\n",
       "      <th>7</th>\n",
       "      <td>8</td>\n",
       "      <td>3</td>\n",
       "      <td>90</td>\n",
       "      <td>25</td>\n",
       "      <td>78</td>\n",
       "    </tr>\n",
       "    <tr>\n",
       "      <th>8</th>\n",
       "      <td>9</td>\n",
       "      <td>3</td>\n",
       "      <td>20</td>\n",
       "      <td>15</td>\n",
       "      <td>98</td>\n",
       "    </tr>\n",
       "    <tr>\n",
       "      <th>9</th>\n",
       "      <td>10</td>\n",
       "      <td>3</td>\n",
       "      <td>50</td>\n",
       "      <td>45</td>\n",
       "      <td>98</td>\n",
       "    </tr>\n",
       "  </tbody>\n",
       "</table>\n",
       "</div>"
      ],
      "text/plain": [
       "   id  class   r  python  html\n",
       "0   1      1  50      50    98\n",
       "1   2      1  60      60    97\n",
       "2   3      1  45      78    86\n",
       "3   4      2  30      58    98\n",
       "4   5      2  25      65    80\n",
       "5   6      2  50      98    89\n",
       "6   7      3  80      45    90\n",
       "7   8      3  90      25    78\n",
       "8   9      3  20      15    98\n",
       "9  10      3  50      45    98"
      ]
     },
     "execution_count": 17,
     "metadata": {},
     "output_type": "execute_result"
    }
   ],
   "source": [
    "df = pd.read_excel('data/raw.xlsx')\n",
    "df"
   ]
  },
  {
   "cell_type": "markdown",
   "id": "f34e4469-c8b6-43dc-912c-c8467c3fab12",
   "metadata": {
    "lines_to_next_cell": 2
   },
   "source": [
    "Q6. 데이터의 특징을 파악할 수 있도록 앞 부분 일부를 출력하세요."
   ]
  },
  {
   "cell_type": "code",
   "execution_count": 18,
   "id": "2b6b753e-f317-40ab-b15b-9059d3ba9da7",
   "metadata": {
    "lines_to_next_cell": 2
   },
   "outputs": [
    {
     "data": {
      "text/html": [
       "<div>\n",
       "<style scoped>\n",
       "    .dataframe tbody tr th:only-of-type {\n",
       "        vertical-align: middle;\n",
       "    }\n",
       "\n",
       "    .dataframe tbody tr th {\n",
       "        vertical-align: top;\n",
       "    }\n",
       "\n",
       "    .dataframe thead th {\n",
       "        text-align: right;\n",
       "    }\n",
       "</style>\n",
       "<table border=\"1\" class=\"dataframe\">\n",
       "  <thead>\n",
       "    <tr style=\"text-align: right;\">\n",
       "      <th></th>\n",
       "      <th>id</th>\n",
       "      <th>class</th>\n",
       "      <th>r</th>\n",
       "      <th>python</th>\n",
       "      <th>html</th>\n",
       "    </tr>\n",
       "  </thead>\n",
       "  <tbody>\n",
       "    <tr>\n",
       "      <th>0</th>\n",
       "      <td>1</td>\n",
       "      <td>1</td>\n",
       "      <td>50</td>\n",
       "      <td>50</td>\n",
       "      <td>98</td>\n",
       "    </tr>\n",
       "    <tr>\n",
       "      <th>1</th>\n",
       "      <td>2</td>\n",
       "      <td>1</td>\n",
       "      <td>60</td>\n",
       "      <td>60</td>\n",
       "      <td>97</td>\n",
       "    </tr>\n",
       "    <tr>\n",
       "      <th>2</th>\n",
       "      <td>3</td>\n",
       "      <td>1</td>\n",
       "      <td>45</td>\n",
       "      <td>78</td>\n",
       "      <td>86</td>\n",
       "    </tr>\n",
       "    <tr>\n",
       "      <th>3</th>\n",
       "      <td>4</td>\n",
       "      <td>2</td>\n",
       "      <td>30</td>\n",
       "      <td>58</td>\n",
       "      <td>98</td>\n",
       "    </tr>\n",
       "    <tr>\n",
       "      <th>4</th>\n",
       "      <td>5</td>\n",
       "      <td>2</td>\n",
       "      <td>25</td>\n",
       "      <td>65</td>\n",
       "      <td>80</td>\n",
       "    </tr>\n",
       "  </tbody>\n",
       "</table>\n",
       "</div>"
      ],
      "text/plain": [
       "   id  class   r  python  html\n",
       "0   1      1  50      50    98\n",
       "1   2      1  60      60    97\n",
       "2   3      1  45      78    86\n",
       "3   4      2  30      58    98\n",
       "4   5      2  25      65    80"
      ]
     },
     "execution_count": 18,
     "metadata": {},
     "output_type": "execute_result"
    }
   ],
   "source": [
    "df.head()"
   ]
  },
  {
   "cell_type": "markdown",
   "id": "a35ced09-2e3d-4e6e-80c1-6417a0041afc",
   "metadata": {
    "lines_to_next_cell": 2
   },
   "source": [
    "Q7. 데이터가 몇 개의 row와 몇 개의 변수로 구성되어 있는지, 어떤 특징을 지닌 변수들로 구성되어 있는지 알아보세요. 하나의 함수만 이용하세요."
   ]
  },
  {
   "cell_type": "code",
   "execution_count": 19,
   "id": "3f44a843-5704-4e0a-807f-0513b0de5e5f",
   "metadata": {
    "lines_to_next_cell": 2
   },
   "outputs": [
    {
     "name": "stdout",
     "output_type": "stream",
     "text": [
      "<class 'pandas.core.frame.DataFrame'>\n",
      "RangeIndex: 10 entries, 0 to 9\n",
      "Data columns (total 5 columns):\n",
      " #   Column  Non-Null Count  Dtype\n",
      "---  ------  --------------  -----\n",
      " 0   id      10 non-null     int64\n",
      " 1   class   10 non-null     int64\n",
      " 2   r       10 non-null     int64\n",
      " 3   python  10 non-null     int64\n",
      " 4   html    10 non-null     int64\n",
      "dtypes: int64(5)\n",
      "memory usage: 528.0 bytes\n"
     ]
    }
   ],
   "source": [
    "df.info()"
   ]
  },
  {
   "cell_type": "markdown",
   "id": "ab622e03-ed8f-426d-b699-bcf9f9dc2227",
   "metadata": {
    "lines_to_next_cell": 2
   },
   "source": [
    "Q8. 모든 변수의 요약 통계량을 출력한 다음 아래 질문에 답하세요.\n",
    "- (1) python 과목의 중앙값은 얼마인가?\n",
    "    - 정답: 54\n",
    "<br><br>\n",
    "- (2) r 과목에서 1등한 학생의 점수는 몇 점인가?\n",
    "    - 정답: 90\n",
    "<br><br>\n",
    "- (3) html 과목의 평균 점수는 얼마인가?\n",
    "    - 정답: 91.2"
   ]
  },
  {
   "cell_type": "code",
   "execution_count": 20,
   "id": "c3da3981-ae3e-48b7-9d42-94ad5120ab64",
   "metadata": {
    "lines_to_next_cell": 2
   },
   "outputs": [
    {
     "data": {
      "text/html": [
       "<div>\n",
       "<style scoped>\n",
       "    .dataframe tbody tr th:only-of-type {\n",
       "        vertical-align: middle;\n",
       "    }\n",
       "\n",
       "    .dataframe tbody tr th {\n",
       "        vertical-align: top;\n",
       "    }\n",
       "\n",
       "    .dataframe thead th {\n",
       "        text-align: right;\n",
       "    }\n",
       "</style>\n",
       "<table border=\"1\" class=\"dataframe\">\n",
       "  <thead>\n",
       "    <tr style=\"text-align: right;\">\n",
       "      <th></th>\n",
       "      <th>id</th>\n",
       "      <th>class</th>\n",
       "      <th>r</th>\n",
       "      <th>python</th>\n",
       "      <th>html</th>\n",
       "    </tr>\n",
       "  </thead>\n",
       "  <tbody>\n",
       "    <tr>\n",
       "      <th>count</th>\n",
       "      <td>10.00000</td>\n",
       "      <td>10.000000</td>\n",
       "      <td>10.000000</td>\n",
       "      <td>10.00000</td>\n",
       "      <td>10.000000</td>\n",
       "    </tr>\n",
       "    <tr>\n",
       "      <th>mean</th>\n",
       "      <td>5.50000</td>\n",
       "      <td>2.100000</td>\n",
       "      <td>50.000000</td>\n",
       "      <td>53.90000</td>\n",
       "      <td>91.200000</td>\n",
       "    </tr>\n",
       "    <tr>\n",
       "      <th>std</th>\n",
       "      <td>3.02765</td>\n",
       "      <td>0.875595</td>\n",
       "      <td>22.484563</td>\n",
       "      <td>24.09449</td>\n",
       "      <td>7.828722</td>\n",
       "    </tr>\n",
       "    <tr>\n",
       "      <th>min</th>\n",
       "      <td>1.00000</td>\n",
       "      <td>1.000000</td>\n",
       "      <td>20.000000</td>\n",
       "      <td>15.00000</td>\n",
       "      <td>78.000000</td>\n",
       "    </tr>\n",
       "    <tr>\n",
       "      <th>25%</th>\n",
       "      <td>3.25000</td>\n",
       "      <td>1.250000</td>\n",
       "      <td>33.750000</td>\n",
       "      <td>45.00000</td>\n",
       "      <td>86.750000</td>\n",
       "    </tr>\n",
       "    <tr>\n",
       "      <th>50%</th>\n",
       "      <td>5.50000</td>\n",
       "      <td>2.000000</td>\n",
       "      <td>50.000000</td>\n",
       "      <td>54.00000</td>\n",
       "      <td>93.500000</td>\n",
       "    </tr>\n",
       "    <tr>\n",
       "      <th>75%</th>\n",
       "      <td>7.75000</td>\n",
       "      <td>3.000000</td>\n",
       "      <td>57.500000</td>\n",
       "      <td>63.75000</td>\n",
       "      <td>98.000000</td>\n",
       "    </tr>\n",
       "    <tr>\n",
       "      <th>max</th>\n",
       "      <td>10.00000</td>\n",
       "      <td>3.000000</td>\n",
       "      <td>90.000000</td>\n",
       "      <td>98.00000</td>\n",
       "      <td>98.000000</td>\n",
       "    </tr>\n",
       "  </tbody>\n",
       "</table>\n",
       "</div>"
      ],
      "text/plain": [
       "             id      class          r    python       html\n",
       "count  10.00000  10.000000  10.000000  10.00000  10.000000\n",
       "mean    5.50000   2.100000  50.000000  53.90000  91.200000\n",
       "std     3.02765   0.875595  22.484563  24.09449   7.828722\n",
       "min     1.00000   1.000000  20.000000  15.00000  78.000000\n",
       "25%     3.25000   1.250000  33.750000  45.00000  86.750000\n",
       "50%     5.50000   2.000000  50.000000  54.00000  93.500000\n",
       "75%     7.75000   3.000000  57.500000  63.75000  98.000000\n",
       "max    10.00000   3.000000  90.000000  98.00000  98.000000"
      ]
     },
     "execution_count": 20,
     "metadata": {},
     "output_type": "execute_result"
    }
   ],
   "source": [
    "df.describe()"
   ]
  },
  {
   "cell_type": "markdown",
   "id": "06629886-bc11-4d25-93ec-1a1a9053405e",
   "metadata": {},
   "source": [
    "## Quiz3 - query"
   ]
  },
  {
   "cell_type": "markdown",
   "id": "284d59b3-a006-4cb7-bfcf-9b48bbce1c7d",
   "metadata": {
    "lines_to_next_cell": 2
   },
   "source": [
    "- mpg 데이터를 활용해 아래 문제를 해결하세요.\n",
    "\n",
    "Q1. 'mpg.csv'를 불러오세요. mpg 데이터에 '도시 연비(cty)와 고속도로 연비(hwy)가 얼마나 차이가 있는지 나타낸 변수'를 추가한 후 일부를 출력해 변수가 잘 추가되었는지 확인하세요."
   ]
  },
  {
   "cell_type": "code",
   "execution_count": 21,
   "id": "0d6fcddb-1ffd-47c5-81fc-0850bfefb93e",
   "metadata": {
    "lines_to_next_cell": 2
   },
   "outputs": [],
   "source": [
    "import pandas as pd\n",
    "mpg = pd.read_csv('data/mpg.csv')"
   ]
  },
  {
   "cell_type": "code",
   "execution_count": 22,
   "id": "ba518ed2-2ded-413f-b502-727addaa26c3",
   "metadata": {
    "lines_to_next_cell": 2
   },
   "outputs": [
    {
     "data": {
      "text/html": [
       "<div>\n",
       "<style scoped>\n",
       "    .dataframe tbody tr th:only-of-type {\n",
       "        vertical-align: middle;\n",
       "    }\n",
       "\n",
       "    .dataframe tbody tr th {\n",
       "        vertical-align: top;\n",
       "    }\n",
       "\n",
       "    .dataframe thead th {\n",
       "        text-align: right;\n",
       "    }\n",
       "</style>\n",
       "<table border=\"1\" class=\"dataframe\">\n",
       "  <thead>\n",
       "    <tr style=\"text-align: right;\">\n",
       "      <th></th>\n",
       "      <th>manufacturer</th>\n",
       "      <th>model</th>\n",
       "      <th>displ</th>\n",
       "      <th>year</th>\n",
       "      <th>cyl</th>\n",
       "      <th>trans</th>\n",
       "      <th>drv</th>\n",
       "      <th>cty</th>\n",
       "      <th>hwy</th>\n",
       "      <th>fl</th>\n",
       "      <th>category</th>\n",
       "      <th>diff</th>\n",
       "    </tr>\n",
       "  </thead>\n",
       "  <tbody>\n",
       "    <tr>\n",
       "      <th>0</th>\n",
       "      <td>audi</td>\n",
       "      <td>a4</td>\n",
       "      <td>1.8</td>\n",
       "      <td>1999</td>\n",
       "      <td>4</td>\n",
       "      <td>auto(l5)</td>\n",
       "      <td>f</td>\n",
       "      <td>18</td>\n",
       "      <td>29</td>\n",
       "      <td>p</td>\n",
       "      <td>compact</td>\n",
       "      <td>11</td>\n",
       "    </tr>\n",
       "    <tr>\n",
       "      <th>1</th>\n",
       "      <td>audi</td>\n",
       "      <td>a4</td>\n",
       "      <td>1.8</td>\n",
       "      <td>1999</td>\n",
       "      <td>4</td>\n",
       "      <td>manual(m5)</td>\n",
       "      <td>f</td>\n",
       "      <td>21</td>\n",
       "      <td>29</td>\n",
       "      <td>p</td>\n",
       "      <td>compact</td>\n",
       "      <td>8</td>\n",
       "    </tr>\n",
       "    <tr>\n",
       "      <th>2</th>\n",
       "      <td>audi</td>\n",
       "      <td>a4</td>\n",
       "      <td>2.0</td>\n",
       "      <td>2008</td>\n",
       "      <td>4</td>\n",
       "      <td>manual(m6)</td>\n",
       "      <td>f</td>\n",
       "      <td>20</td>\n",
       "      <td>31</td>\n",
       "      <td>p</td>\n",
       "      <td>compact</td>\n",
       "      <td>11</td>\n",
       "    </tr>\n",
       "    <tr>\n",
       "      <th>3</th>\n",
       "      <td>audi</td>\n",
       "      <td>a4</td>\n",
       "      <td>2.0</td>\n",
       "      <td>2008</td>\n",
       "      <td>4</td>\n",
       "      <td>auto(av)</td>\n",
       "      <td>f</td>\n",
       "      <td>21</td>\n",
       "      <td>30</td>\n",
       "      <td>p</td>\n",
       "      <td>compact</td>\n",
       "      <td>9</td>\n",
       "    </tr>\n",
       "    <tr>\n",
       "      <th>4</th>\n",
       "      <td>audi</td>\n",
       "      <td>a4</td>\n",
       "      <td>2.8</td>\n",
       "      <td>1999</td>\n",
       "      <td>6</td>\n",
       "      <td>auto(l5)</td>\n",
       "      <td>f</td>\n",
       "      <td>16</td>\n",
       "      <td>26</td>\n",
       "      <td>p</td>\n",
       "      <td>compact</td>\n",
       "      <td>10</td>\n",
       "    </tr>\n",
       "  </tbody>\n",
       "</table>\n",
       "</div>"
      ],
      "text/plain": [
       "  manufacturer model  displ  year  cyl       trans drv  cty  hwy fl category  \\\n",
       "0         audi    a4    1.8  1999    4    auto(l5)   f   18   29  p  compact   \n",
       "1         audi    a4    1.8  1999    4  manual(m5)   f   21   29  p  compact   \n",
       "2         audi    a4    2.0  2008    4  manual(m6)   f   20   31  p  compact   \n",
       "3         audi    a4    2.0  2008    4    auto(av)   f   21   30  p  compact   \n",
       "4         audi    a4    2.8  1999    6    auto(l5)   f   16   26  p  compact   \n",
       "\n",
       "   diff  \n",
       "0    11  \n",
       "1     8  \n",
       "2    11  \n",
       "3     9  \n",
       "4    10  "
      ]
     },
     "execution_count": 22,
     "metadata": {},
     "output_type": "execute_result"
    }
   ],
   "source": [
    "mpg['diff'] = mpg['hwy'] - mpg['cty']\n",
    "mpg.head()"
   ]
  },
  {
   "cell_type": "markdown",
   "id": "d71cf4cd-fbe7-438b-87df-36b0c525053e",
   "metadata": {
    "lines_to_next_cell": 2
   },
   "source": [
    "Q2. cty가 자동차 전체 평균보다 높으면 'high', 그 외에는 'low' 등급을 부여한 변수를 추가하세요. 등급별 자동차 수를 파악할 수 있도록 빈도표와 그래프를 출력한 후 각 등급의 자동차 수를 입력하세요.\n",
    "\n",
    "- 정답 입력\n",
    "  - high 등급 : 118\n",
    "  - low 등급  : 116"
   ]
  },
  {
   "cell_type": "code",
   "execution_count": 23,
   "id": "4621b0d5-e546-4650-854e-f8894fa8eaa5",
   "metadata": {
    "lines_to_next_cell": 2
   },
   "outputs": [],
   "source": [
    "import numpy as np\n",
    "mpg['grade'] = np.where(mpg['cty'] > mpg['cty'].mean(), 'high', 'low')"
   ]
  },
  {
   "cell_type": "code",
   "execution_count": 24,
   "id": "e11749a0-aaeb-4a39-b2dd-3b201e5ed817",
   "metadata": {
    "lines_to_next_cell": 2
   },
   "outputs": [
    {
     "data": {
      "text/plain": [
       "high    118\n",
       "low     116\n",
       "Name: grade, dtype: int64"
      ]
     },
     "execution_count": 24,
     "metadata": {},
     "output_type": "execute_result"
    }
   ],
   "source": [
    "mpg['grade'].value_counts()"
   ]
  },
  {
   "cell_type": "code",
   "execution_count": 25,
   "id": "51822e05-71b4-4d33-8662-528a2605548c",
   "metadata": {
    "lines_to_next_cell": 2
   },
   "outputs": [
    {
     "data": {
      "text/plain": [
       "high    118\n",
       "low     116\n",
       "Name: grade, dtype: int64"
      ]
     },
     "execution_count": 25,
     "metadata": {},
     "output_type": "execute_result"
    }
   ],
   "source": [
    "grade = mpg['grade'].value_counts()\n",
    "grade"
   ]
  },
  {
   "cell_type": "code",
   "execution_count": 26,
   "id": "d95c9715-9813-443c-b3e0-700b60859783",
   "metadata": {
    "lines_to_next_cell": 2
   },
   "outputs": [
    {
     "data": {
      "text/plain": [
       "<AxesSubplot:>"
      ]
     },
     "execution_count": 26,
     "metadata": {},
     "output_type": "execute_result"
    },
    {
     "data": {
      "image/png": "[encoded data removed]",
      "text/plain": [
       "<Figure size 432x288 with 1 Axes>"
      ]
     },
     "metadata": {
      "needs_background": "light"
     },
     "output_type": "display_data"
    }
   ],
   "source": [
    "grade.plot.bar(rot = 0)"
   ]
  },
  {
   "cell_type": "markdown",
   "id": "b74ef304-d482-4bec-84ea-ebf1f7972543",
   "metadata": {
    "lines_to_next_cell": 2
   },
   "source": [
    "Q3. 자동차 종류(category)가 'minivan'인 자동차만 추출해 별도의 데이터를 만든 후 cty 평균을 출력하세요."
   ]
  },
  {
   "cell_type": "code",
   "execution_count": 27,
   "id": "40c68c17-3ef5-4dcf-aeaf-d739fa236062",
   "metadata": {
    "lines_to_next_cell": 2
   },
   "outputs": [
    {
     "data": {
      "text/plain": [
       "15.818181818181818"
      ]
     },
     "execution_count": 27,
     "metadata": {},
     "output_type": "execute_result"
    }
   ],
   "source": [
    "minivan = mpg.query('category == \"minivan\"')\n",
    "minivan['cty'].mean()"
   ]
  },
  {
   "cell_type": "markdown",
   "id": "9b4ccc98-35c5-4eb5-a071-85aed532e212",
   "metadata": {
    "lines_to_next_cell": 2
   },
   "source": [
    "Q4. cty와 hwy가 모두 25 이하인 자동차만 추출해 별도의 데이터를 만드세요."
   ]
  },
  {
   "cell_type": "code",
   "execution_count": 28,
   "id": "86e5f8a0-8ea6-4bb7-bbe4-1b6520f49ce6",
   "metadata": {
    "lines_to_next_cell": 2
   },
   "outputs": [],
   "source": [
    "df_25 = mpg.query('cty <= 25 & hwy <= 25')"
   ]
  },
  {
   "cell_type": "markdown",
   "id": "19726d4d-b855-4ace-8509-a0de5e547d7b",
   "metadata": {
    "lines_to_next_cell": 2
   },
   "source": [
    "Q5. Q4에서 추출한 데이터에서 자동차 종류(category)가 'suv'인 자동차는 몇 대인가요?\n",
    "- 정답 입력 'suv' 자동차 수 : 60"
   ]
  },
  {
   "cell_type": "code",
   "execution_count": 29,
   "id": "b0bad878-d2c7-4418-81e5-655a0e9c6e8d",
   "metadata": {
    "lines_to_next_cell": 2
   },
   "outputs": [
    {
     "data": {
      "text/plain": [
       "suv           60\n",
       "pickup        33\n",
       "minivan       11\n",
       "compact       10\n",
       "subcompact    10\n",
       "midsize        6\n",
       "2seater        3\n",
       "Name: category, dtype: int64"
      ]
     },
     "execution_count": 29,
     "metadata": {},
     "output_type": "execute_result"
    }
   ],
   "source": [
    "df_25['category'].value_counts()"
   ]
  },
  {
   "cell_type": "markdown",
   "id": "b5a7afa4-6385-4f59-93b3-603e453ef829",
   "metadata": {},
   "source": [
    "Q6. 제조사(manufacturer)가 'hyundai'인 자동차의 제조사명, 자동차 종류(category), 도시 연비(cty)를 출력하세요."
   ]
  },
  {
   "cell_type": "code",
   "execution_count": 30,
   "id": "085854f2-9fb9-4c47-8f31-2f35751975b4",
   "metadata": {
    "lines_to_next_cell": 0
   },
   "outputs": [
    {
     "data": {
      "text/html": [
       "<div>\n",
       "<style scoped>\n",
       "    .dataframe tbody tr th:only-of-type {\n",
       "        vertical-align: middle;\n",
       "    }\n",
       "\n",
       "    .dataframe tbody tr th {\n",
       "        vertical-align: top;\n",
       "    }\n",
       "\n",
       "    .dataframe thead th {\n",
       "        text-align: right;\n",
       "    }\n",
       "</style>\n",
       "<table border=\"1\" class=\"dataframe\">\n",
       "  <thead>\n",
       "    <tr style=\"text-align: right;\">\n",
       "      <th></th>\n",
       "      <th>manufacturer</th>\n",
       "      <th>category</th>\n",
       "      <th>cty</th>\n",
       "    </tr>\n",
       "  </thead>\n",
       "  <tbody>\n",
       "    <tr>\n",
       "      <th>108</th>\n",
       "      <td>hyundai</td>\n",
       "      <td>midsize</td>\n",
       "      <td>18</td>\n",
       "    </tr>\n",
       "    <tr>\n",
       "      <th>109</th>\n",
       "      <td>hyundai</td>\n",
       "      <td>midsize</td>\n",
       "      <td>18</td>\n",
       "    </tr>\n",
       "    <tr>\n",
       "      <th>110</th>\n",
       "      <td>hyundai</td>\n",
       "      <td>midsize</td>\n",
       "      <td>21</td>\n",
       "    </tr>\n",
       "    <tr>\n",
       "      <th>111</th>\n",
       "      <td>hyundai</td>\n",
       "      <td>midsize</td>\n",
       "      <td>21</td>\n",
       "    </tr>\n",
       "    <tr>\n",
       "      <th>112</th>\n",
       "      <td>hyundai</td>\n",
       "      <td>midsize</td>\n",
       "      <td>18</td>\n",
       "    </tr>\n",
       "    <tr>\n",
       "      <th>113</th>\n",
       "      <td>hyundai</td>\n",
       "      <td>midsize</td>\n",
       "      <td>18</td>\n",
       "    </tr>\n",
       "    <tr>\n",
       "      <th>114</th>\n",
       "      <td>hyundai</td>\n",
       "      <td>midsize</td>\n",
       "      <td>19</td>\n",
       "    </tr>\n",
       "    <tr>\n",
       "      <th>115</th>\n",
       "      <td>hyundai</td>\n",
       "      <td>subcompact</td>\n",
       "      <td>19</td>\n",
       "    </tr>\n",
       "    <tr>\n",
       "      <th>116</th>\n",
       "      <td>hyundai</td>\n",
       "      <td>subcompact</td>\n",
       "      <td>19</td>\n",
       "    </tr>\n",
       "    <tr>\n",
       "      <th>117</th>\n",
       "      <td>hyundai</td>\n",
       "      <td>subcompact</td>\n",
       "      <td>20</td>\n",
       "    </tr>\n",
       "    <tr>\n",
       "      <th>118</th>\n",
       "      <td>hyundai</td>\n",
       "      <td>subcompact</td>\n",
       "      <td>20</td>\n",
       "    </tr>\n",
       "    <tr>\n",
       "      <th>119</th>\n",
       "      <td>hyundai</td>\n",
       "      <td>subcompact</td>\n",
       "      <td>17</td>\n",
       "    </tr>\n",
       "    <tr>\n",
       "      <th>120</th>\n",
       "      <td>hyundai</td>\n",
       "      <td>subcompact</td>\n",
       "      <td>16</td>\n",
       "    </tr>\n",
       "    <tr>\n",
       "      <th>121</th>\n",
       "      <td>hyundai</td>\n",
       "      <td>subcompact</td>\n",
       "      <td>17</td>\n",
       "    </tr>\n",
       "  </tbody>\n",
       "</table>\n",
       "</div>"
      ],
      "text/plain": [
       "    manufacturer    category  cty\n",
       "108      hyundai     midsize   18\n",
       "109      hyundai     midsize   18\n",
       "110      hyundai     midsize   21\n",
       "111      hyundai     midsize   21\n",
       "112      hyundai     midsize   18\n",
       "113      hyundai     midsize   18\n",
       "114      hyundai     midsize   19\n",
       "115      hyundai  subcompact   19\n",
       "116      hyundai  subcompact   19\n",
       "117      hyundai  subcompact   20\n",
       "118      hyundai  subcompact   20\n",
       "119      hyundai  subcompact   17\n",
       "120      hyundai  subcompact   16\n",
       "121      hyundai  subcompact   17"
      ]
     },
     "execution_count": 30,
     "metadata": {},
     "output_type": "execute_result"
    }
   ],
   "source": [
    "mpg.query('manufacturer == \"hyundai\"') \\\n",
    "   [['manufacturer', 'category', 'cty']]"
   ]
  },
  {
   "cell_type": "markdown",
   "id": "7ee9c033-b2f2-4fc3-92e9-d2034de1cc77",
   "metadata": {},
   "source": [
    "## Quiz4 - combine 1"
   ]
  },
  {
   "cell_type": "markdown",
   "id": "da2f0029-0e8e-4fd2-92e2-0ab004000a13",
   "metadata": {},
   "source": [
    "'flights.csv'는 2013년 뉴욕의 항공 운항 정보를 담고 있는 데이터입니다. 'flights.csv'를 불러와 몇 개의 운항 정보로 구성되는지, 어떤 변수들로 구성되는지 알아본 다음 문제를 해결하세요."
   ]
  },
  {
   "cell_type": "code",
   "execution_count": 31,
   "id": "a05d106c-c9f1-4bb0-b8db-5acabd314e01",
   "metadata": {},
   "outputs": [
    {
     "name": "stdout",
     "output_type": "stream",
     "text": [
      "<class 'pandas.core.frame.DataFrame'>\n",
      "RangeIndex: 336776 entries, 0 to 336775\n",
      "Data columns (total 19 columns):\n",
      " #   Column          Non-Null Count   Dtype  \n",
      "---  ------          --------------   -----  \n",
      " 0   year            336776 non-null  int64  \n",
      " 1   month           336776 non-null  int64  \n",
      " 2   day             336776 non-null  int64  \n",
      " 3   dep_time        328521 non-null  float64\n",
      " 4   sched_dep_time  336776 non-null  int64  \n",
      " 5   dep_delay       328521 non-null  float64\n",
      " 6   arr_time        328063 non-null  float64\n",
      " 7   sched_arr_time  336776 non-null  int64  \n",
      " 8   arr_delay       327346 non-null  float64\n",
      " 9   carrier         336776 non-null  object \n",
      " 10  flight          336776 non-null  int64  \n",
      " 11  tailnum         334264 non-null  object \n",
      " 12  origin          336776 non-null  object \n",
      " 13  dest            336776 non-null  object \n",
      " 14  air_time        327346 non-null  float64\n",
      " 15  distance        336776 non-null  int64  \n",
      " 16  hour            336776 non-null  int64  \n",
      " 17  minute          336776 non-null  int64  \n",
      " 18  time_hour       336776 non-null  object \n",
      "dtypes: float64(5), int64(9), object(5)\n",
      "memory usage: 48.8+ MB\n"
     ]
    }
   ],
   "source": [
    "import pandas as pd\n",
    "flights = pd.read_csv('data/flights.csv')\n",
    "flights.info()"
   ]
  },
  {
   "cell_type": "code",
   "execution_count": 32,
   "id": "cb7c4e84-7269-4239-94cb-dc506c824775",
   "metadata": {},
   "outputs": [
    {
     "data": {
      "text/html": [
       "<div>\n",
       "<style scoped>\n",
       "    .dataframe tbody tr th:only-of-type {\n",
       "        vertical-align: middle;\n",
       "    }\n",
       "\n",
       "    .dataframe tbody tr th {\n",
       "        vertical-align: top;\n",
       "    }\n",
       "\n",
       "    .dataframe thead th {\n",
       "        text-align: right;\n",
       "    }\n",
       "</style>\n",
       "<table border=\"1\" class=\"dataframe\">\n",
       "  <thead>\n",
       "    <tr style=\"text-align: right;\">\n",
       "      <th></th>\n",
       "      <th>year</th>\n",
       "      <th>month</th>\n",
       "      <th>day</th>\n",
       "      <th>dep_time</th>\n",
       "      <th>sched_dep_time</th>\n",
       "      <th>dep_delay</th>\n",
       "      <th>arr_time</th>\n",
       "      <th>sched_arr_time</th>\n",
       "      <th>arr_delay</th>\n",
       "      <th>carrier</th>\n",
       "      <th>flight</th>\n",
       "      <th>tailnum</th>\n",
       "      <th>origin</th>\n",
       "      <th>dest</th>\n",
       "      <th>air_time</th>\n",
       "      <th>distance</th>\n",
       "      <th>hour</th>\n",
       "      <th>minute</th>\n",
       "      <th>time_hour</th>\n",
       "    </tr>\n",
       "  </thead>\n",
       "  <tbody>\n",
       "    <tr>\n",
       "      <th>0</th>\n",
       "      <td>2013</td>\n",
       "      <td>1</td>\n",
       "      <td>1</td>\n",
       "      <td>517.0</td>\n",
       "      <td>515</td>\n",
       "      <td>2.0</td>\n",
       "      <td>830.0</td>\n",
       "      <td>819</td>\n",
       "      <td>11.0</td>\n",
       "      <td>UA</td>\n",
       "      <td>1545</td>\n",
       "      <td>N14228</td>\n",
       "      <td>EWR</td>\n",
       "      <td>IAH</td>\n",
       "      <td>227.0</td>\n",
       "      <td>1400</td>\n",
       "      <td>5</td>\n",
       "      <td>15</td>\n",
       "      <td>2013-01-01 05:00:00</td>\n",
       "    </tr>\n",
       "    <tr>\n",
       "      <th>1</th>\n",
       "      <td>2013</td>\n",
       "      <td>1</td>\n",
       "      <td>1</td>\n",
       "      <td>533.0</td>\n",
       "      <td>529</td>\n",
       "      <td>4.0</td>\n",
       "      <td>850.0</td>\n",
       "      <td>830</td>\n",
       "      <td>20.0</td>\n",
       "      <td>UA</td>\n",
       "      <td>1714</td>\n",
       "      <td>N24211</td>\n",
       "      <td>LGA</td>\n",
       "      <td>IAH</td>\n",
       "      <td>227.0</td>\n",
       "      <td>1416</td>\n",
       "      <td>5</td>\n",
       "      <td>29</td>\n",
       "      <td>2013-01-01 05:00:00</td>\n",
       "    </tr>\n",
       "    <tr>\n",
       "      <th>2</th>\n",
       "      <td>2013</td>\n",
       "      <td>1</td>\n",
       "      <td>1</td>\n",
       "      <td>542.0</td>\n",
       "      <td>540</td>\n",
       "      <td>2.0</td>\n",
       "      <td>923.0</td>\n",
       "      <td>850</td>\n",
       "      <td>33.0</td>\n",
       "      <td>AA</td>\n",
       "      <td>1141</td>\n",
       "      <td>N619AA</td>\n",
       "      <td>JFK</td>\n",
       "      <td>MIA</td>\n",
       "      <td>160.0</td>\n",
       "      <td>1089</td>\n",
       "      <td>5</td>\n",
       "      <td>40</td>\n",
       "      <td>2013-01-01 05:00:00</td>\n",
       "    </tr>\n",
       "    <tr>\n",
       "      <th>3</th>\n",
       "      <td>2013</td>\n",
       "      <td>1</td>\n",
       "      <td>1</td>\n",
       "      <td>544.0</td>\n",
       "      <td>545</td>\n",
       "      <td>-1.0</td>\n",
       "      <td>1004.0</td>\n",
       "      <td>1022</td>\n",
       "      <td>-18.0</td>\n",
       "      <td>B6</td>\n",
       "      <td>725</td>\n",
       "      <td>N804JB</td>\n",
       "      <td>JFK</td>\n",
       "      <td>BQN</td>\n",
       "      <td>183.0</td>\n",
       "      <td>1576</td>\n",
       "      <td>5</td>\n",
       "      <td>45</td>\n",
       "      <td>2013-01-01 05:00:00</td>\n",
       "    </tr>\n",
       "    <tr>\n",
       "      <th>4</th>\n",
       "      <td>2013</td>\n",
       "      <td>1</td>\n",
       "      <td>1</td>\n",
       "      <td>554.0</td>\n",
       "      <td>600</td>\n",
       "      <td>-6.0</td>\n",
       "      <td>812.0</td>\n",
       "      <td>837</td>\n",
       "      <td>-25.0</td>\n",
       "      <td>DL</td>\n",
       "      <td>461</td>\n",
       "      <td>N668DN</td>\n",
       "      <td>LGA</td>\n",
       "      <td>ATL</td>\n",
       "      <td>116.0</td>\n",
       "      <td>762</td>\n",
       "      <td>6</td>\n",
       "      <td>0</td>\n",
       "      <td>2013-01-01 06:00:00</td>\n",
       "    </tr>\n",
       "  </tbody>\n",
       "</table>\n",
       "</div>"
      ],
      "text/plain": [
       "   year  month  day  dep_time  sched_dep_time  dep_delay  arr_time  \\\n",
       "0  2013      1    1     517.0             515        2.0     830.0   \n",
       "1  2013      1    1     533.0             529        4.0     850.0   \n",
       "2  2013      1    1     542.0             540        2.0     923.0   \n",
       "3  2013      1    1     544.0             545       -1.0    1004.0   \n",
       "4  2013      1    1     554.0             600       -6.0     812.0   \n",
       "\n",
       "   sched_arr_time  arr_delay carrier  flight tailnum origin dest  air_time  \\\n",
       "0             819       11.0      UA    1545  N14228    EWR  IAH     227.0   \n",
       "1             830       20.0      UA    1714  N24211    LGA  IAH     227.0   \n",
       "2             850       33.0      AA    1141  N619AA    JFK  MIA     160.0   \n",
       "3            1022      -18.0      B6     725  N804JB    JFK  BQN     183.0   \n",
       "4             837      -25.0      DL     461  N668DN    LGA  ATL     116.0   \n",
       "\n",
       "   distance  hour  minute            time_hour  \n",
       "0      1400     5      15  2013-01-01 05:00:00  \n",
       "1      1416     5      29  2013-01-01 05:00:00  \n",
       "2      1089     5      40  2013-01-01 05:00:00  \n",
       "3      1576     5      45  2013-01-01 05:00:00  \n",
       "4       762     6       0  2013-01-01 06:00:00  "
      ]
     },
     "execution_count": 32,
     "metadata": {},
     "output_type": "execute_result"
    }
   ],
   "source": [
    "flights.head()"
   ]
  },
  {
   "cell_type": "markdown",
   "id": "32fd6bc2-4cfb-4b08-82f9-be40d672dffc",
   "metadata": {},
   "source": [
    "Q1. dest는 도착하는 공항(목적지), distance는 목적지까지의 이동 거리를 나타낸 변수입니다. 목적지별 평균 이동 거리를 알아보세요."
   ]
  },
  {
   "cell_type": "code",
   "execution_count": 33,
   "id": "ceba648f-b54e-47bd-9dc0-ca82e4264d92",
   "metadata": {},
   "outputs": [
    {
     "data": {
      "text/html": [
       "<div>\n",
       "<style scoped>\n",
       "    .dataframe tbody tr th:only-of-type {\n",
       "        vertical-align: middle;\n",
       "    }\n",
       "\n",
       "    .dataframe tbody tr th {\n",
       "        vertical-align: top;\n",
       "    }\n",
       "\n",
       "    .dataframe thead th {\n",
       "        text-align: right;\n",
       "    }\n",
       "</style>\n",
       "<table border=\"1\" class=\"dataframe\">\n",
       "  <thead>\n",
       "    <tr style=\"text-align: right;\">\n",
       "      <th></th>\n",
       "      <th>y</th>\n",
       "    </tr>\n",
       "    <tr>\n",
       "      <th>dest</th>\n",
       "      <th></th>\n",
       "    </tr>\n",
       "  </thead>\n",
       "  <tbody>\n",
       "    <tr>\n",
       "      <th>ABQ</th>\n",
       "      <td>1826.000000</td>\n",
       "    </tr>\n",
       "    <tr>\n",
       "      <th>ACK</th>\n",
       "      <td>199.000000</td>\n",
       "    </tr>\n",
       "    <tr>\n",
       "      <th>ALB</th>\n",
       "      <td>143.000000</td>\n",
       "    </tr>\n",
       "    <tr>\n",
       "      <th>ANC</th>\n",
       "      <td>3370.000000</td>\n",
       "    </tr>\n",
       "    <tr>\n",
       "      <th>ATL</th>\n",
       "      <td>757.108220</td>\n",
       "    </tr>\n",
       "    <tr>\n",
       "      <th>...</th>\n",
       "      <td>...</td>\n",
       "    </tr>\n",
       "    <tr>\n",
       "      <th>TPA</th>\n",
       "      <td>1003.935575</td>\n",
       "    </tr>\n",
       "    <tr>\n",
       "      <th>TUL</th>\n",
       "      <td>1215.000000</td>\n",
       "    </tr>\n",
       "    <tr>\n",
       "      <th>TVC</th>\n",
       "      <td>652.386139</td>\n",
       "    </tr>\n",
       "    <tr>\n",
       "      <th>TYS</th>\n",
       "      <td>638.809826</td>\n",
       "    </tr>\n",
       "    <tr>\n",
       "      <th>XNA</th>\n",
       "      <td>1142.505792</td>\n",
       "    </tr>\n",
       "  </tbody>\n",
       "</table>\n",
       "<p>105 rows × 1 columns</p>\n",
       "</div>"
      ],
      "text/plain": [
       "                y\n",
       "dest             \n",
       "ABQ   1826.000000\n",
       "ACK    199.000000\n",
       "ALB    143.000000\n",
       "ANC   3370.000000\n",
       "ATL    757.108220\n",
       "...           ...\n",
       "TPA   1003.935575\n",
       "TUL   1215.000000\n",
       "TVC    652.386139\n",
       "TYS    638.809826\n",
       "XNA   1142.505792\n",
       "\n",
       "[105 rows x 1 columns]"
      ]
     },
     "execution_count": 33,
     "metadata": {},
     "output_type": "execute_result"
    }
   ],
   "source": [
    "flights.groupby('dest') \\\n",
    "       .agg(y = ('distance', 'mean'))"
   ]
  },
  {
   "cell_type": "markdown",
   "id": "a6378bbd-459b-456b-ae46-f0120e784ba5",
   "metadata": {},
   "source": [
    "Q2. 평균 이동 거리가 가장 긴 목적지가 어디인지 알아보세요."
   ]
  },
  {
   "cell_type": "code",
   "execution_count": 66,
   "id": "1694a05e-9175-4bbf-a48a-ccb0ed0d7e7f",
   "metadata": {},
   "outputs": [
    {
     "data": {
      "text/html": [
       "<div>\n",
       "<style scoped>\n",
       "    .dataframe tbody tr th:only-of-type {\n",
       "        vertical-align: middle;\n",
       "    }\n",
       "\n",
       "    .dataframe tbody tr th {\n",
       "        vertical-align: top;\n",
       "    }\n",
       "\n",
       "    .dataframe thead th {\n",
       "        text-align: right;\n",
       "    }\n",
       "</style>\n",
       "<table border=\"1\" class=\"dataframe\">\n",
       "  <thead>\n",
       "    <tr style=\"text-align: right;\">\n",
       "      <th></th>\n",
       "      <th>y</th>\n",
       "    </tr>\n",
       "    <tr>\n",
       "      <th>dest</th>\n",
       "      <th></th>\n",
       "    </tr>\n",
       "  </thead>\n",
       "  <tbody>\n",
       "    <tr>\n",
       "      <th>HNL</th>\n",
       "      <td>4972.674682</td>\n",
       "    </tr>\n",
       "  </tbody>\n",
       "</table>\n",
       "</div>"
      ],
      "text/plain": [
       "                y\n",
       "dest             \n",
       "HNL   4972.674682"
      ]
     },
     "execution_count": 66,
     "metadata": {},
     "output_type": "execute_result"
    }
   ],
   "source": [
    "flights.groupby('dest') \\\n",
    "       .agg(y = ('distance', 'mean')) \\\n",
    "       .sort_values('y', ascending = False) \\\n",
    "       .head(1)"
   ]
  },
  {
   "cell_type": "markdown",
   "id": "b907e2b5-f143-4b47-a9bf-48a7b8c90dfd",
   "metadata": {},
   "source": [
    "Q3. dest 변수의 값은 코드(FAA airport code)로 되어있기 때문에 구체적으로 어떤 공항을 의미하는지 알기 어렵습니다. \n",
    "- 'airports.csv'는 공항 코드(faa)별 공항명(name)을 담고 있습니다. \n",
    "- 앞 문제에서 알아낸 공항 코드 HNL이 어떤 공항을 의미하는지, airports 데이터를 이용해 알아보세요."
   ]
  },
  {
   "cell_type": "code",
   "execution_count": 35,
   "id": "8c9d2cc8-3b71-43e6-b461-0a3dffd0c76f",
   "metadata": {},
   "outputs": [
    {
     "data": {
      "text/html": [
       "<div>\n",
       "<style scoped>\n",
       "    .dataframe tbody tr th:only-of-type {\n",
       "        vertical-align: middle;\n",
       "    }\n",
       "\n",
       "    .dataframe tbody tr th {\n",
       "        vertical-align: top;\n",
       "    }\n",
       "\n",
       "    .dataframe thead th {\n",
       "        text-align: right;\n",
       "    }\n",
       "</style>\n",
       "<table border=\"1\" class=\"dataframe\">\n",
       "  <thead>\n",
       "    <tr style=\"text-align: right;\">\n",
       "      <th></th>\n",
       "      <th>faa</th>\n",
       "      <th>name</th>\n",
       "      <th>lat</th>\n",
       "      <th>lon</th>\n",
       "      <th>alt</th>\n",
       "      <th>tz</th>\n",
       "      <th>dst</th>\n",
       "      <th>tzone</th>\n",
       "    </tr>\n",
       "  </thead>\n",
       "  <tbody>\n",
       "    <tr>\n",
       "      <th>0</th>\n",
       "      <td>04G</td>\n",
       "      <td>Lansdowne Airport</td>\n",
       "      <td>41.130472</td>\n",
       "      <td>-80.619583</td>\n",
       "      <td>1044</td>\n",
       "      <td>-5</td>\n",
       "      <td>A</td>\n",
       "      <td>America/New_York</td>\n",
       "    </tr>\n",
       "    <tr>\n",
       "      <th>1</th>\n",
       "      <td>06A</td>\n",
       "      <td>Moton Field Municipal Airport</td>\n",
       "      <td>32.460572</td>\n",
       "      <td>-85.680028</td>\n",
       "      <td>264</td>\n",
       "      <td>-6</td>\n",
       "      <td>A</td>\n",
       "      <td>America/Chicago</td>\n",
       "    </tr>\n",
       "    <tr>\n",
       "      <th>2</th>\n",
       "      <td>06C</td>\n",
       "      <td>Schaumburg Regional</td>\n",
       "      <td>41.989341</td>\n",
       "      <td>-88.101243</td>\n",
       "      <td>801</td>\n",
       "      <td>-6</td>\n",
       "      <td>A</td>\n",
       "      <td>America/Chicago</td>\n",
       "    </tr>\n",
       "    <tr>\n",
       "      <th>3</th>\n",
       "      <td>06N</td>\n",
       "      <td>Randall Airport</td>\n",
       "      <td>41.431912</td>\n",
       "      <td>-74.391561</td>\n",
       "      <td>523</td>\n",
       "      <td>-5</td>\n",
       "      <td>A</td>\n",
       "      <td>America/New_York</td>\n",
       "    </tr>\n",
       "    <tr>\n",
       "      <th>4</th>\n",
       "      <td>09J</td>\n",
       "      <td>Jekyll Island Airport</td>\n",
       "      <td>31.074472</td>\n",
       "      <td>-81.427778</td>\n",
       "      <td>11</td>\n",
       "      <td>-5</td>\n",
       "      <td>A</td>\n",
       "      <td>America/New_York</td>\n",
       "    </tr>\n",
       "  </tbody>\n",
       "</table>\n",
       "</div>"
      ],
      "text/plain": [
       "   faa                           name        lat        lon   alt  tz dst  \\\n",
       "0  04G              Lansdowne Airport  41.130472 -80.619583  1044  -5   A   \n",
       "1  06A  Moton Field Municipal Airport  32.460572 -85.680028   264  -6   A   \n",
       "2  06C            Schaumburg Regional  41.989341 -88.101243   801  -6   A   \n",
       "3  06N                Randall Airport  41.431912 -74.391561   523  -5   A   \n",
       "4  09J          Jekyll Island Airport  31.074472 -81.427778    11  -5   A   \n",
       "\n",
       "              tzone  \n",
       "0  America/New_York  \n",
       "1   America/Chicago  \n",
       "2   America/Chicago  \n",
       "3  America/New_York  \n",
       "4  America/New_York  "
      ]
     },
     "execution_count": 35,
     "metadata": {},
     "output_type": "execute_result"
    }
   ],
   "source": [
    "airports = pd.read_csv('data/airports.csv')\n",
    "airports.head()"
   ]
  },
  {
   "cell_type": "code",
   "execution_count": 36,
   "id": "36be7d35-c45c-43b7-b824-c5b60a12833d",
   "metadata": {},
   "outputs": [
    {
     "data": {
      "text/html": [
       "<div>\n",
       "<style scoped>\n",
       "    .dataframe tbody tr th:only-of-type {\n",
       "        vertical-align: middle;\n",
       "    }\n",
       "\n",
       "    .dataframe tbody tr th {\n",
       "        vertical-align: top;\n",
       "    }\n",
       "\n",
       "    .dataframe thead th {\n",
       "        text-align: right;\n",
       "    }\n",
       "</style>\n",
       "<table border=\"1\" class=\"dataframe\">\n",
       "  <thead>\n",
       "    <tr style=\"text-align: right;\">\n",
       "      <th></th>\n",
       "      <th>faa</th>\n",
       "      <th>name</th>\n",
       "      <th>lat</th>\n",
       "      <th>lon</th>\n",
       "      <th>alt</th>\n",
       "      <th>tz</th>\n",
       "      <th>dst</th>\n",
       "      <th>tzone</th>\n",
       "    </tr>\n",
       "  </thead>\n",
       "  <tbody>\n",
       "    <tr>\n",
       "      <th>600</th>\n",
       "      <td>HNL</td>\n",
       "      <td>Honolulu Intl</td>\n",
       "      <td>21.318681</td>\n",
       "      <td>-157.922428</td>\n",
       "      <td>13</td>\n",
       "      <td>-10</td>\n",
       "      <td>N</td>\n",
       "      <td>Pacific/Honolulu</td>\n",
       "    </tr>\n",
       "  </tbody>\n",
       "</table>\n",
       "</div>"
      ],
      "text/plain": [
       "     faa           name        lat         lon  alt  tz dst             tzone\n",
       "600  HNL  Honolulu Intl  21.318681 -157.922428   13 -10   N  Pacific/Honolulu"
      ]
     },
     "execution_count": 36,
     "metadata": {},
     "output_type": "execute_result"
    }
   ],
   "source": [
    "airports.query('faa == \"HNL\"')"
   ]
  },
  {
   "cell_type": "markdown",
   "id": "486cfa39-5267-466b-9306-b5c8ef4d3f9e",
   "metadata": {},
   "source": [
    "Q4. flights 데이터의 carrier 변수는 항공사 코드(carrier codes)를 담고 있습니다. 어떤 항공사의 운항이 많았는지 알아보려고 합니다. 항공사별 '운항 빈도'를 출력하세요."
   ]
  },
  {
   "cell_type": "code",
   "execution_count": null,
   "id": "49622c69-f68a-4924-984b-aa086e02e07e",
   "metadata": {},
   "outputs": [
    {
     "data": {
      "text/html": [
       "<div>\n",
       "<style scoped>\n",
       "    .dataframe tbody tr th:only-of-type {\n",
       "        vertical-align: middle;\n",
       "    }\n",
       "\n",
       "    .dataframe tbody tr th {\n",
       "        vertical-align: top;\n",
       "    }\n",
       "\n",
       "    .dataframe thead th {\n",
       "        text-align: right;\n",
       "    }\n",
       "</style>\n",
       "<table border=\"1\" class=\"dataframe\">\n",
       "  <thead>\n",
       "    <tr style=\"text-align: right;\">\n",
       "      <th></th>\n",
       "      <th>n</th>\n",
       "    </tr>\n",
       "    <tr>\n",
       "      <th>carrier</th>\n",
       "      <th></th>\n",
       "    </tr>\n",
       "  </thead>\n",
       "  <tbody>\n",
       "    <tr>\n",
       "      <th>UA</th>\n",
       "      <td>58665</td>\n",
       "    </tr>\n",
       "    <tr>\n",
       "      <th>B6</th>\n",
       "      <td>54635</td>\n",
       "    </tr>\n",
       "    <tr>\n",
       "      <th>EV</th>\n",
       "      <td>54173</td>\n",
       "    </tr>\n",
       "    <tr>\n",
       "      <th>DL</th>\n",
       "      <td>48110</td>\n",
       "    </tr>\n",
       "    <tr>\n",
       "      <th>AA</th>\n",
       "      <td>32729</td>\n",
       "    </tr>\n",
       "    <tr>\n",
       "      <th>MQ</th>\n",
       "      <td>26397</td>\n",
       "    </tr>\n",
       "    <tr>\n",
       "      <th>US</th>\n",
       "      <td>20536</td>\n",
       "    </tr>\n",
       "    <tr>\n",
       "      <th>9E</th>\n",
       "      <td>18460</td>\n",
       "    </tr>\n",
       "    <tr>\n",
       "      <th>WN</th>\n",
       "      <td>12275</td>\n",
       "    </tr>\n",
       "    <tr>\n",
       "      <th>VX</th>\n",
       "      <td>5162</td>\n",
       "    </tr>\n",
       "    <tr>\n",
       "      <th>FL</th>\n",
       "      <td>3260</td>\n",
       "    </tr>\n",
       "    <tr>\n",
       "      <th>AS</th>\n",
       "      <td>714</td>\n",
       "    </tr>\n",
       "    <tr>\n",
       "      <th>F9</th>\n",
       "      <td>685</td>\n",
       "    </tr>\n",
       "    <tr>\n",
       "      <th>YV</th>\n",
       "      <td>601</td>\n",
       "    </tr>\n",
       "    <tr>\n",
       "      <th>HA</th>\n",
       "      <td>342</td>\n",
       "    </tr>\n",
       "    <tr>\n",
       "      <th>OO</th>\n",
       "      <td>32</td>\n",
       "    </tr>\n",
       "  </tbody>\n",
       "</table>\n",
       "</div>"
      ],
      "text/plain": [
       "             n\n",
       "carrier       \n",
       "UA       58665\n",
       "B6       54635\n",
       "EV       54173\n",
       "DL       48110\n",
       "AA       32729\n",
       "MQ       26397\n",
       "US       20536\n",
       "9E       18460\n",
       "WN       12275\n",
       "VX        5162\n",
       "FL        3260\n",
       "AS         714\n",
       "F9         685\n",
       "YV         601\n",
       "HA         342\n",
       "OO          32"
      ]
     },
     "execution_count": 38,
     "metadata": {},
     "output_type": "execute_result"
    }
   ],
   "source": [
    "flights.groupby('carrier') \\\n",
    "  .agg(n = ('carrier', 'count')) \\\n",
    "  .sort_values('n', ascending = False)"
   ]
  },
  {
   "cell_type": "code",
   "execution_count": 67,
   "id": "b4e6b6b1-a017-4e45-8bb3-c308fa02c5ef",
   "metadata": {},
   "outputs": [
    {
     "data": {
      "text/plain": [
       "UA    58665\n",
       "B6    54635\n",
       "EV    54173\n",
       "DL    48110\n",
       "AA    32729\n",
       "MQ    26397\n",
       "US    20536\n",
       "9E    18460\n",
       "WN    12275\n",
       "VX     5162\n",
       "FL     3260\n",
       "AS      714\n",
       "F9      685\n",
       "YV      601\n",
       "HA      342\n",
       "OO       32\n",
       "Name: carrier, dtype: int64"
      ]
     },
     "execution_count": 67,
     "metadata": {},
     "output_type": "execute_result"
    }
   ],
   "source": [
    "# 방법2\n",
    "flights['carrier'].value_counts()"
   ]
  },
  {
   "cell_type": "markdown",
   "id": "d0f69dfc-2848-4072-bfd3-dcf984f38188",
   "metadata": {},
   "source": [
    "Q5. 운항 빈도가 가장 높은 항공사 상위 3곳을 알아보세요."
   ]
  },
  {
   "cell_type": "code",
   "execution_count": 40,
   "id": "5d293fe1-1681-47fc-a58c-0cba28943bab",
   "metadata": {},
   "outputs": [
    {
     "data": {
      "text/html": [
       "<div>\n",
       "<style scoped>\n",
       "    .dataframe tbody tr th:only-of-type {\n",
       "        vertical-align: middle;\n",
       "    }\n",
       "\n",
       "    .dataframe tbody tr th {\n",
       "        vertical-align: top;\n",
       "    }\n",
       "\n",
       "    .dataframe thead th {\n",
       "        text-align: right;\n",
       "    }\n",
       "</style>\n",
       "<table border=\"1\" class=\"dataframe\">\n",
       "  <thead>\n",
       "    <tr style=\"text-align: right;\">\n",
       "      <th></th>\n",
       "      <th>n</th>\n",
       "    </tr>\n",
       "    <tr>\n",
       "      <th>carrier</th>\n",
       "      <th></th>\n",
       "    </tr>\n",
       "  </thead>\n",
       "  <tbody>\n",
       "    <tr>\n",
       "      <th>UA</th>\n",
       "      <td>58665</td>\n",
       "    </tr>\n",
       "    <tr>\n",
       "      <th>B6</th>\n",
       "      <td>54635</td>\n",
       "    </tr>\n",
       "    <tr>\n",
       "      <th>EV</th>\n",
       "      <td>54173</td>\n",
       "    </tr>\n",
       "  </tbody>\n",
       "</table>\n",
       "</div>"
      ],
      "text/plain": [
       "             n\n",
       "carrier       \n",
       "UA       58665\n",
       "B6       54635\n",
       "EV       54173"
      ]
     },
     "execution_count": 40,
     "metadata": {},
     "output_type": "execute_result"
    }
   ],
   "source": [
    "flights.groupby('carrier') \\\n",
    "  .agg(n = ('carrier', 'count')) \\\n",
    "  .sort_values('n', ascending = False) \\\n",
    "  .head(3)"
   ]
  },
  {
   "cell_type": "code",
   "execution_count": 39,
   "id": "9b2e75ba-b5f3-4e31-8ac7-8333b4e4d3e7",
   "metadata": {},
   "outputs": [
    {
     "data": {
      "text/plain": [
       "UA    58665\n",
       "B6    54635\n",
       "EV    54173\n",
       "Name: carrier, dtype: int64"
      ]
     },
     "execution_count": 39,
     "metadata": {},
     "output_type": "execute_result"
    }
   ],
   "source": [
    "# 방법2\n",
    "flights['carrier'].value_counts().head(3)"
   ]
  },
  {
   "cell_type": "markdown",
   "id": "9dd82c3c-c612-41c0-9ad7-7f53c020c59a",
   "metadata": {},
   "source": [
    "Q6. 어떤 항공사의 '점유율'이 높았는지 알아보려고 합니다. 항공사별 점유율을 출력하세요.\n",
    " - 힌트 : 점유율 = 전체 빈도에서 해당 구성 요소의 빈도가 차지하는 비율"
   ]
  },
  {
   "cell_type": "code",
   "execution_count": 41,
   "id": "575eff4a-fa20-4d42-90db-8b7b6e10c923",
   "metadata": {},
   "outputs": [
    {
     "data": {
      "text/plain": [
       "(336776, 19)"
      ]
     },
     "execution_count": 41,
     "metadata": {},
     "output_type": "execute_result"
    }
   ],
   "source": [
    "# df.shape\n",
    "flights.shape"
   ]
  },
  {
   "cell_type": "code",
   "execution_count": 42,
   "id": "c5503481-10c1-49c8-b38e-4f154b338d40",
   "metadata": {},
   "outputs": [
    {
     "data": {
      "text/plain": [
       "UA    17.419590\n",
       "B6    16.222949\n",
       "EV    16.085766\n",
       "DL    14.285460\n",
       "AA     9.718329\n",
       "MQ     7.838148\n",
       "US     6.097822\n",
       "9E     5.481388\n",
       "WN     3.644856\n",
       "VX     1.532770\n",
       "FL     0.968002\n",
       "AS     0.212010\n",
       "F9     0.203399\n",
       "YV     0.178457\n",
       "HA     0.101551\n",
       "OO     0.009502\n",
       "Name: carrier, dtype: float64"
      ]
     },
     "execution_count": 42,
     "metadata": {},
     "output_type": "execute_result"
    }
   ],
   "source": [
    "flights['carrier'].value_counts()/336776*100"
   ]
  },
  {
   "cell_type": "code",
   "execution_count": 43,
   "id": "996424cb-6919-4ce9-b48a-da45bde35dd2",
   "metadata": {},
   "outputs": [
    {
     "data": {
      "text/plain": [
       "336776"
      ]
     },
     "execution_count": 43,
     "metadata": {},
     "output_type": "execute_result"
    }
   ],
   "source": [
    "flights.shape[0]"
   ]
  },
  {
   "cell_type": "code",
   "execution_count": 44,
   "id": "0744f46e-0228-4570-bedb-2a42e02736a7",
   "metadata": {},
   "outputs": [
    {
     "data": {
      "text/plain": [
       "19"
      ]
     },
     "execution_count": 44,
     "metadata": {},
     "output_type": "execute_result"
    }
   ],
   "source": [
    "flights.shape[1]"
   ]
  },
  {
   "cell_type": "code",
   "execution_count": 45,
   "id": "e8edad7f-b2f2-408a-81c9-a3f223f270b3",
   "metadata": {},
   "outputs": [
    {
     "data": {
      "text/plain": [
       "UA    17.419590\n",
       "B6    16.222949\n",
       "EV    16.085766\n",
       "DL    14.285460\n",
       "AA     9.718329\n",
       "MQ     7.838148\n",
       "US     6.097822\n",
       "9E     5.481388\n",
       "WN     3.644856\n",
       "VX     1.532770\n",
       "FL     0.968002\n",
       "AS     0.212010\n",
       "F9     0.203399\n",
       "YV     0.178457\n",
       "HA     0.101551\n",
       "OO     0.009502\n",
       "Name: carrier, dtype: float64"
      ]
     },
     "execution_count": 45,
     "metadata": {},
     "output_type": "execute_result"
    }
   ],
   "source": [
    "flights['carrier'].value_counts()/flights.shape[0]*100"
   ]
  },
  {
   "cell_type": "code",
   "execution_count": 46,
   "id": "65e2ae2e-2182-48a5-ae63-3998c6515351",
   "metadata": {},
   "outputs": [
    {
     "data": {
      "text/plain": [
       "336776"
      ]
     },
     "execution_count": 46,
     "metadata": {},
     "output_type": "execute_result"
    }
   ],
   "source": [
    "# len()\n",
    "len(flights)"
   ]
  },
  {
   "cell_type": "code",
   "execution_count": 47,
   "id": "150e2a95-7793-4ff5-bb5d-47771a6dbb94",
   "metadata": {},
   "outputs": [
    {
     "data": {
      "text/plain": [
       "carrier\n",
       "UA    17.419590\n",
       "B6    16.222949\n",
       "EV    16.085766\n",
       "DL    14.285460\n",
       "AA     9.718329\n",
       "MQ     7.838148\n",
       "US     6.097822\n",
       "9E     5.481388\n",
       "WN     3.644856\n",
       "VX     1.532770\n",
       "FL     0.968002\n",
       "AS     0.212010\n",
       "F9     0.203399\n",
       "YV     0.178457\n",
       "HA     0.101551\n",
       "OO     0.009502\n",
       "dtype: float64"
      ]
     },
     "execution_count": 47,
     "metadata": {},
     "output_type": "execute_result"
    }
   ],
   "source": [
    "flights.value_counts('carrier')/len(flights)*100"
   ]
  },
  {
   "cell_type": "code",
   "execution_count": 48,
   "id": "9af5919e-91d3-495c-8e43-98e7bcce37b7",
   "metadata": {},
   "outputs": [
    {
     "data": {
      "text/plain": [
       "UA    0.174196\n",
       "B6    0.162229\n",
       "EV    0.160858\n",
       "DL    0.142855\n",
       "AA    0.097183\n",
       "MQ    0.078381\n",
       "US    0.060978\n",
       "9E    0.054814\n",
       "WN    0.036449\n",
       "VX    0.015328\n",
       "FL    0.009680\n",
       "AS    0.002120\n",
       "F9    0.002034\n",
       "YV    0.001785\n",
       "HA    0.001016\n",
       "OO    0.000095\n",
       "Name: carrier, dtype: float64"
      ]
     },
     "execution_count": 48,
     "metadata": {},
     "output_type": "execute_result"
    }
   ],
   "source": [
    "# df.value_counts(normalize = True)\n",
    "flights['carrier'].value_counts(normalize = True)"
   ]
  },
  {
   "cell_type": "code",
   "execution_count": 49,
   "id": "77da3b80-884d-49a7-aeee-834dc3708339",
   "metadata": {},
   "outputs": [
    {
     "data": {
      "text/plain": [
       "UA    17.419590\n",
       "B6    16.222949\n",
       "EV    16.085766\n",
       "DL    14.285460\n",
       "AA     9.718329\n",
       "MQ     7.838148\n",
       "US     6.097822\n",
       "9E     5.481388\n",
       "WN     3.644856\n",
       "VX     1.532770\n",
       "FL     0.968002\n",
       "AS     0.212010\n",
       "F9     0.203399\n",
       "YV     0.178457\n",
       "HA     0.101551\n",
       "OO     0.009502\n",
       "Name: carrier, dtype: float64"
      ]
     },
     "execution_count": 49,
     "metadata": {},
     "output_type": "execute_result"
    }
   ],
   "source": [
    "flights['carrier'].value_counts(normalize = True)*100"
   ]
  },
  {
   "cell_type": "markdown",
   "id": "1c5f6c0e-15fb-424b-88d5-da835b9c213f",
   "metadata": {},
   "source": [
    "Q7. 점유율이 가장 높은 항공사 5곳이 어디인지 알아보세요."
   ]
  },
  {
   "cell_type": "code",
   "execution_count": 50,
   "id": "284b9335-a20b-47c2-ad6a-6282387f54ca",
   "metadata": {},
   "outputs": [
    {
     "data": {
      "text/plain": [
       "UA    0.174196\n",
       "B6    0.162229\n",
       "EV    0.160858\n",
       "DL    0.142855\n",
       "AA    0.097183\n",
       "Name: carrier, dtype: float64"
      ]
     },
     "execution_count": 50,
     "metadata": {},
     "output_type": "execute_result"
    }
   ],
   "source": [
    "flights['carrier'].value_counts(normalize = True).head()"
   ]
  },
  {
   "cell_type": "code",
   "execution_count": 51,
   "id": "ab92b2c2-269a-4356-877d-91f5054cf02a",
   "metadata": {},
   "outputs": [
    {
     "data": {
      "text/plain": [
       "UA    17.419590\n",
       "B6    16.222949\n",
       "EV    16.085766\n",
       "DL    14.285460\n",
       "AA     9.718329\n",
       "Name: carrier, dtype: float64"
      ]
     },
     "execution_count": 51,
     "metadata": {},
     "output_type": "execute_result"
    }
   ],
   "source": [
    "(flights['carrier'].value_counts(normalize = True)*100).head()"
   ]
  },
  {
   "cell_type": "markdown",
   "id": "9cf9d1a8-bdd3-40eb-b093-fa661c69eefe",
   "metadata": {},
   "source": [
    "## Quiz5 - combine 2"
   ]
  },
  {
   "cell_type": "markdown",
   "id": "bab0aa63-a025-4265-bf15-ea994c338dff",
   "metadata": {},
   "source": [
    "### Quiz 5-1"
   ]
  },
  {
   "cell_type": "markdown",
   "id": "7f1b2cce-5a0d-4bcd-9bb2-9ecac9494ef4",
   "metadata": {},
   "source": [
    "미국 동북중부 437개 지역(county)의 인구통계 정보를 담은 'midwest.csv'를 사용해 문제를 해결하세요."
   ]
  },
  {
   "cell_type": "markdown",
   "id": "556c0a93-a68e-470e-97a4-839738bcd76d",
   "metadata": {},
   "source": [
    "Q1. midwest 데이터가 몇 개의 row와 몇 개의 변수로 구성되어 있는지, 어떤 특징을 지닌 변수들로 구성되어 있는지 알아보세요. 하나의 함수만 이용하세요."
   ]
  },
  {
   "cell_type": "code",
   "execution_count": 52,
   "id": "fbcca0c8-dd74-4f1e-b23c-b4a5cc1ddc43",
   "metadata": {},
   "outputs": [
    {
     "name": "stdout",
     "output_type": "stream",
     "text": [
      "<class 'pandas.core.frame.DataFrame'>\n",
      "RangeIndex: 437 entries, 0 to 436\n",
      "Data columns (total 28 columns):\n",
      " #   Column                Non-Null Count  Dtype  \n",
      "---  ------                --------------  -----  \n",
      " 0   PID                   437 non-null    int64  \n",
      " 1   county                437 non-null    object \n",
      " 2   state                 437 non-null    object \n",
      " 3   area                  437 non-null    float64\n",
      " 4   poptotal              437 non-null    int64  \n",
      " 5   popdensity            437 non-null    float64\n",
      " 6   popwhite              437 non-null    int64  \n",
      " 7   popblack              437 non-null    int64  \n",
      " 8   popamerindian         437 non-null    int64  \n",
      " 9   popasian              437 non-null    int64  \n",
      " 10  popother              437 non-null    int64  \n",
      " 11  percwhite             437 non-null    float64\n",
      " 12  percblack             437 non-null    float64\n",
      " 13  percamerindan         437 non-null    float64\n",
      " 14  percasian             437 non-null    float64\n",
      " 15  percother             437 non-null    float64\n",
      " 16  popadults             437 non-null    int64  \n",
      " 17  perchsd               437 non-null    float64\n",
      " 18  percollege            437 non-null    float64\n",
      " 19  percprof              437 non-null    float64\n",
      " 20  poppovertyknown       437 non-null    int64  \n",
      " 21  percpovertyknown      437 non-null    float64\n",
      " 22  percbelowpoverty      437 non-null    float64\n",
      " 23  percchildbelowpovert  437 non-null    float64\n",
      " 24  percadultpoverty      437 non-null    float64\n",
      " 25  percelderlypoverty    437 non-null    float64\n",
      " 26  inmetro               437 non-null    int64  \n",
      " 27  category              437 non-null    object \n",
      "dtypes: float64(15), int64(10), object(3)\n",
      "memory usage: 95.7+ KB\n"
     ]
    }
   ],
   "source": [
    "import pandas as pd\n",
    "midwest = pd.read_csv('data/midwest.csv')\n",
    "midwest.info()"
   ]
  },
  {
   "cell_type": "markdown",
   "id": "acee4fec-ff08-416f-9cc9-07359bb46665",
   "metadata": {},
   "source": [
    "Q2. popwhite는 백인 인구, popamerindian은 미국 원주민(American Indians) 인구를 나타낸 변수입니다. popwhite는 white로, popamerindian은 indian으로 변수명을 수정하세요."
   ]
  },
  {
   "cell_type": "code",
   "execution_count": 53,
   "id": "6751f426-75d3-49a6-a8f5-5a6e0cba9b88",
   "metadata": {},
   "outputs": [
    {
     "name": "stdout",
     "output_type": "stream",
     "text": [
      "<class 'pandas.core.frame.DataFrame'>\n",
      "RangeIndex: 437 entries, 0 to 436\n",
      "Data columns (total 28 columns):\n",
      " #   Column                Non-Null Count  Dtype  \n",
      "---  ------                --------------  -----  \n",
      " 0   PID                   437 non-null    int64  \n",
      " 1   county                437 non-null    object \n",
      " 2   state                 437 non-null    object \n",
      " 3   area                  437 non-null    float64\n",
      " 4   poptotal              437 non-null    int64  \n",
      " 5   popdensity            437 non-null    float64\n",
      " 6   white                 437 non-null    int64  \n",
      " 7   popblack              437 non-null    int64  \n",
      " 8   indian                437 non-null    int64  \n",
      " 9   popasian              437 non-null    int64  \n",
      " 10  popother              437 non-null    int64  \n",
      " 11  percwhite             437 non-null    float64\n",
      " 12  percblack             437 non-null    float64\n",
      " 13  percamerindan         437 non-null    float64\n",
      " 14  percasian             437 non-null    float64\n",
      " 15  percother             437 non-null    float64\n",
      " 16  popadults             437 non-null    int64  \n",
      " 17  perchsd               437 non-null    float64\n",
      " 18  percollege            437 non-null    float64\n",
      " 19  percprof              437 non-null    float64\n",
      " 20  poppovertyknown       437 non-null    int64  \n",
      " 21  percpovertyknown      437 non-null    float64\n",
      " 22  percbelowpoverty      437 non-null    float64\n",
      " 23  percchildbelowpovert  437 non-null    float64\n",
      " 24  percadultpoverty      437 non-null    float64\n",
      " 25  percelderlypoverty    437 non-null    float64\n",
      " 26  inmetro               437 non-null    int64  \n",
      " 27  category              437 non-null    object \n",
      "dtypes: float64(15), int64(10), object(3)\n",
      "memory usage: 95.7+ KB\n"
     ]
    }
   ],
   "source": [
    "midwest = midwest.rename(columns = {'popwhite' : 'white', \n",
    "                                    'popamerindian' : 'indian'})\n",
    "midwest.info()"
   ]
  },
  {
   "cell_type": "markdown",
   "id": "df524b34-327f-4370-9303-197fbc45da86",
   "metadata": {},
   "source": [
    "Q3. '백인 대비 미국 원주민 인구 백분율' 파생변수를 만드세요."
   ]
  },
  {
   "cell_type": "code",
   "execution_count": 54,
   "id": "e29a7e21-3d1d-470a-9cfd-1b1cfc3c7bab",
   "metadata": {},
   "outputs": [],
   "source": [
    "midwest['ratio'] = midwest['indian'] / midwest['white'] * 100"
   ]
  },
  {
   "cell_type": "markdown",
   "id": "04aa11ee-286b-4ca5-a302-852c3412c0eb",
   "metadata": {},
   "source": [
    "Q4. '백인 대비 미국 원주민 인구 백분율'이 전체 평균 이상이면 'large', 그 외에는 'small'을 부여하는 파생변수를 만드세요."
   ]
  },
  {
   "cell_type": "code",
   "execution_count": 55,
   "id": "f6ecaa1a-5545-406e-9a56-99347a7435f6",
   "metadata": {},
   "outputs": [],
   "source": [
    "import numpy as np\n",
    "midwest['group'] = np.where(midwest['ratio'] >= midwest['ratio'].mean(), 'large', 'small')"
   ]
  },
  {
   "cell_type": "markdown",
   "id": "197dff97-fc24-4d53-b9d4-0d46102d8e0f",
   "metadata": {},
   "source": [
    "Q5. 'large'와 'small'에 해당하는 지역이 얼마나 되는지 빈도표와 빈도 막대 그래프를 만들어 확인해 보세요."
   ]
  },
  {
   "cell_type": "code",
   "execution_count": 56,
   "id": "c36665f5-bfe5-417a-a442-bf255d257033",
   "metadata": {},
   "outputs": [
    {
     "data": {
      "text/plain": [
       "group\n",
       "small    420\n",
       "large     17\n",
       "dtype: int64"
      ]
     },
     "execution_count": 56,
     "metadata": {},
     "output_type": "execute_result"
    }
   ],
   "source": [
    "n_group = midwest.value_counts('group')\n",
    "n_group"
   ]
  },
  {
   "cell_type": "code",
   "execution_count": 57,
   "id": "63d79255-6ca1-4710-b35a-a90be0e01165",
   "metadata": {},
   "outputs": [
    {
     "data": {
      "text/plain": [
       "<AxesSubplot:xlabel='group'>"
      ]
     },
     "execution_count": 57,
     "metadata": {},
     "output_type": "execute_result"
    },
    {
     "data": {
      "image/png": "[encoded data removed]",
      "text/plain": [
       "<Figure size 432x288 with 1 Axes>"
      ]
     },
     "metadata": {
      "needs_background": "light"
     },
     "output_type": "display_data"
    }
   ],
   "source": [
    "n_group.plot.bar(rot = 0)"
   ]
  },
  {
   "cell_type": "markdown",
   "id": "ba72b5c7-758c-4b11-b697-3645d157a8b9",
   "metadata": {},
   "source": [
    "Q6. '백인 대비 미국 원주민 인구 백분율'이 가장 낮은 20개 지역을 추출해서 별도의 데이터를 만드세요."
   ]
  },
  {
   "cell_type": "code",
   "execution_count": 58,
   "id": "a77750d8-816d-410e-95bc-a5b85e65d90d",
   "metadata": {},
   "outputs": [
    {
     "data": {
      "text/html": [
       "<div>\n",
       "<style scoped>\n",
       "    .dataframe tbody tr th:only-of-type {\n",
       "        vertical-align: middle;\n",
       "    }\n",
       "\n",
       "    .dataframe tbody tr th {\n",
       "        vertical-align: top;\n",
       "    }\n",
       "\n",
       "    .dataframe thead th {\n",
       "        text-align: right;\n",
       "    }\n",
       "</style>\n",
       "<table border=\"1\" class=\"dataframe\">\n",
       "  <thead>\n",
       "    <tr style=\"text-align: right;\">\n",
       "      <th></th>\n",
       "      <th>PID</th>\n",
       "      <th>county</th>\n",
       "      <th>state</th>\n",
       "      <th>area</th>\n",
       "      <th>poptotal</th>\n",
       "      <th>popdensity</th>\n",
       "      <th>white</th>\n",
       "      <th>popblack</th>\n",
       "      <th>indian</th>\n",
       "      <th>popasian</th>\n",
       "      <th>...</th>\n",
       "      <th>poppovertyknown</th>\n",
       "      <th>percpovertyknown</th>\n",
       "      <th>percbelowpoverty</th>\n",
       "      <th>percchildbelowpovert</th>\n",
       "      <th>percadultpoverty</th>\n",
       "      <th>percelderlypoverty</th>\n",
       "      <th>inmetro</th>\n",
       "      <th>category</th>\n",
       "      <th>ratio</th>\n",
       "      <th>group</th>\n",
       "    </tr>\n",
       "  </thead>\n",
       "  <tbody>\n",
       "    <tr>\n",
       "      <th>17</th>\n",
       "      <td>578</td>\n",
       "      <td>CUMBERLAND</td>\n",
       "      <td>IL</td>\n",
       "      <td>0.020</td>\n",
       "      <td>10670</td>\n",
       "      <td>533.50000</td>\n",
       "      <td>10627</td>\n",
       "      <td>5</td>\n",
       "      <td>6</td>\n",
       "      <td>26</td>\n",
       "      <td>...</td>\n",
       "      <td>10590</td>\n",
       "      <td>99.250234</td>\n",
       "      <td>12.049103</td>\n",
       "      <td>13.603185</td>\n",
       "      <td>9.822264</td>\n",
       "      <td>15.284626</td>\n",
       "      <td>0</td>\n",
       "      <td>AAR</td>\n",
       "      <td>0.056460</td>\n",
       "      <td>small</td>\n",
       "    </tr>\n",
       "    <tr>\n",
       "      <th>8</th>\n",
       "      <td>569</td>\n",
       "      <td>CASS</td>\n",
       "      <td>IL</td>\n",
       "      <td>0.024</td>\n",
       "      <td>13437</td>\n",
       "      <td>559.87500</td>\n",
       "      <td>13384</td>\n",
       "      <td>16</td>\n",
       "      <td>8</td>\n",
       "      <td>23</td>\n",
       "      <td>...</td>\n",
       "      <td>13081</td>\n",
       "      <td>97.350599</td>\n",
       "      <td>13.875086</td>\n",
       "      <td>17.994784</td>\n",
       "      <td>11.914343</td>\n",
       "      <td>13.660180</td>\n",
       "      <td>0</td>\n",
       "      <td>AAR</td>\n",
       "      <td>0.059773</td>\n",
       "      <td>small</td>\n",
       "    </tr>\n",
       "    <tr>\n",
       "      <th>314</th>\n",
       "      <td>2046</td>\n",
       "      <td>HOLMES</td>\n",
       "      <td>OH</td>\n",
       "      <td>0.025</td>\n",
       "      <td>32849</td>\n",
       "      <td>1313.96000</td>\n",
       "      <td>32706</td>\n",
       "      <td>52</td>\n",
       "      <td>24</td>\n",
       "      <td>43</td>\n",
       "      <td>...</td>\n",
       "      <td>31830</td>\n",
       "      <td>96.897927</td>\n",
       "      <td>17.244738</td>\n",
       "      <td>24.517113</td>\n",
       "      <td>12.352242</td>\n",
       "      <td>15.357939</td>\n",
       "      <td>0</td>\n",
       "      <td>LAR</td>\n",
       "      <td>0.073381</td>\n",
       "      <td>small</td>\n",
       "    </tr>\n",
       "    <tr>\n",
       "      <th>117</th>\n",
       "      <td>678</td>\n",
       "      <td>DECATUR</td>\n",
       "      <td>IN</td>\n",
       "      <td>0.022</td>\n",
       "      <td>23645</td>\n",
       "      <td>1074.77273</td>\n",
       "      <td>23444</td>\n",
       "      <td>39</td>\n",
       "      <td>19</td>\n",
       "      <td>129</td>\n",
       "      <td>...</td>\n",
       "      <td>23245</td>\n",
       "      <td>98.308310</td>\n",
       "      <td>9.064315</td>\n",
       "      <td>11.116045</td>\n",
       "      <td>7.668009</td>\n",
       "      <td>10.062729</td>\n",
       "      <td>0</td>\n",
       "      <td>AAR</td>\n",
       "      <td>0.081044</td>\n",
       "      <td>small</td>\n",
       "    </tr>\n",
       "    <tr>\n",
       "      <th>284</th>\n",
       "      <td>2016</td>\n",
       "      <td>BROWN</td>\n",
       "      <td>OH</td>\n",
       "      <td>0.028</td>\n",
       "      <td>34966</td>\n",
       "      <td>1248.78571</td>\n",
       "      <td>34487</td>\n",
       "      <td>406</td>\n",
       "      <td>28</td>\n",
       "      <td>30</td>\n",
       "      <td>...</td>\n",
       "      <td>34439</td>\n",
       "      <td>98.492822</td>\n",
       "      <td>14.155463</td>\n",
       "      <td>18.690080</td>\n",
       "      <td>11.145723</td>\n",
       "      <td>16.314848</td>\n",
       "      <td>1</td>\n",
       "      <td>LAU</td>\n",
       "      <td>0.081190</td>\n",
       "      <td>small</td>\n",
       "    </tr>\n",
       "  </tbody>\n",
       "</table>\n",
       "<p>5 rows × 30 columns</p>\n",
       "</div>"
      ],
      "text/plain": [
       "      PID      county state   area  poptotal  popdensity  white  popblack  \\\n",
       "17    578  CUMBERLAND    IL  0.020     10670   533.50000  10627         5   \n",
       "8     569        CASS    IL  0.024     13437   559.87500  13384        16   \n",
       "314  2046      HOLMES    OH  0.025     32849  1313.96000  32706        52   \n",
       "117   678     DECATUR    IN  0.022     23645  1074.77273  23444        39   \n",
       "284  2016       BROWN    OH  0.028     34966  1248.78571  34487       406   \n",
       "\n",
       "     indian  popasian  ...  poppovertyknown  percpovertyknown  \\\n",
       "17        6        26  ...            10590         99.250234   \n",
       "8         8        23  ...            13081         97.350599   \n",
       "314      24        43  ...            31830         96.897927   \n",
       "117      19       129  ...            23245         98.308310   \n",
       "284      28        30  ...            34439         98.492822   \n",
       "\n",
       "     percbelowpoverty  percchildbelowpovert  percadultpoverty  \\\n",
       "17          12.049103             13.603185          9.822264   \n",
       "8           13.875086             17.994784         11.914343   \n",
       "314         17.244738             24.517113         12.352242   \n",
       "117          9.064315             11.116045          7.668009   \n",
       "284         14.155463             18.690080         11.145723   \n",
       "\n",
       "     percelderlypoverty  inmetro  category     ratio  group  \n",
       "17            15.284626        0       AAR  0.056460  small  \n",
       "8             13.660180        0       AAR  0.059773  small  \n",
       "314           15.357939        0       LAR  0.073381  small  \n",
       "117           10.062729        0       AAR  0.081044  small  \n",
       "284           16.314848        1       LAU  0.081190  small  \n",
       "\n",
       "[5 rows x 30 columns]"
      ]
     },
     "execution_count": 58,
     "metadata": {},
     "output_type": "execute_result"
    }
   ],
   "source": [
    "indian20 = midwest.sort_values('ratio').head(20)\n",
    "indian20.head()"
   ]
  },
  {
   "cell_type": "markdown",
   "id": "541dd8f6-ff8e-4f92-a0a7-7fa04a9ff853",
   "metadata": {},
   "source": [
    "Q7. 앞에서 추출한 지역 중 대학 진학자 비율(percollege)이 가장 낮은 5개 지역(county)이 어디인지 알아보세요. 출력 결과에는 지역 이름과 대학 진학자 비율만 나타나게 하세요."
   ]
  },
  {
   "cell_type": "code",
   "execution_count": 59,
   "id": "5a8fef68-30b7-4e66-9d3b-c3f495dcf38d",
   "metadata": {},
   "outputs": [
    {
     "data": {
      "text/html": [
       "<div>\n",
       "<style scoped>\n",
       "    .dataframe tbody tr th:only-of-type {\n",
       "        vertical-align: middle;\n",
       "    }\n",
       "\n",
       "    .dataframe tbody tr th {\n",
       "        vertical-align: top;\n",
       "    }\n",
       "\n",
       "    .dataframe thead th {\n",
       "        text-align: right;\n",
       "    }\n",
       "</style>\n",
       "<table border=\"1\" class=\"dataframe\">\n",
       "  <thead>\n",
       "    <tr style=\"text-align: right;\">\n",
       "      <th></th>\n",
       "      <th>county</th>\n",
       "      <th>percollege</th>\n",
       "    </tr>\n",
       "  </thead>\n",
       "  <tbody>\n",
       "    <tr>\n",
       "      <th>314</th>\n",
       "      <td>HOLMES</td>\n",
       "      <td>9.330709</td>\n",
       "    </tr>\n",
       "    <tr>\n",
       "      <th>284</th>\n",
       "      <td>BROWN</td>\n",
       "      <td>11.433690</td>\n",
       "    </tr>\n",
       "    <tr>\n",
       "      <th>320</th>\n",
       "      <td>LAWRENCE</td>\n",
       "      <td>12.208368</td>\n",
       "    </tr>\n",
       "    <tr>\n",
       "      <th>171</th>\n",
       "      <td>RUSH</td>\n",
       "      <td>12.846370</td>\n",
       "    </tr>\n",
       "    <tr>\n",
       "      <th>115</th>\n",
       "      <td>DAVIESS</td>\n",
       "      <td>13.239127</td>\n",
       "    </tr>\n",
       "  </tbody>\n",
       "</table>\n",
       "</div>"
      ],
      "text/plain": [
       "       county  percollege\n",
       "314    HOLMES    9.330709\n",
       "284     BROWN   11.433690\n",
       "320  LAWRENCE   12.208368\n",
       "171      RUSH   12.846370\n",
       "115   DAVIESS   13.239127"
      ]
     },
     "execution_count": 59,
     "metadata": {},
     "output_type": "execute_result"
    }
   ],
   "source": [
    "indian20.sort_values('percollege') \\\n",
    "        [['county', 'percollege']] \\\n",
    "        .head(5)"
   ]
  },
  {
   "cell_type": "markdown",
   "id": "38a1ab0a-4761-459d-9b20-45ba4a026902",
   "metadata": {},
   "source": [
    "### Quiz 5-2"
   ]
  },
  {
   "cell_type": "markdown",
   "id": "ce4e32da-c421-4933-baa3-c06d98fd96b3",
   "metadata": {},
   "source": [
    "Q8. 2013년 뉴욕의 항공 운항 정보를 담고 있는 flights.csv를 이용해 문제를 해결하세요.\n",
    "\n",
    "- hour 변수는 항공편이 몇 시에 출발했는지, 출발 시각을 담고 있습니다. 항공편이 오전(AM)과 오후(PM)에 각각 몇 편 출발했는지 알아보세요."
   ]
  },
  {
   "cell_type": "code",
   "execution_count": 60,
   "id": "690fade0-a634-4f8a-9ed2-de58c3309fd4",
   "metadata": {},
   "outputs": [
    {
     "data": {
      "text/html": [
       "<div>\n",
       "<style scoped>\n",
       "    .dataframe tbody tr th:only-of-type {\n",
       "        vertical-align: middle;\n",
       "    }\n",
       "\n",
       "    .dataframe tbody tr th {\n",
       "        vertical-align: top;\n",
       "    }\n",
       "\n",
       "    .dataframe thead th {\n",
       "        text-align: right;\n",
       "    }\n",
       "</style>\n",
       "<table border=\"1\" class=\"dataframe\">\n",
       "  <thead>\n",
       "    <tr style=\"text-align: right;\">\n",
       "      <th></th>\n",
       "      <th>year</th>\n",
       "      <th>month</th>\n",
       "      <th>day</th>\n",
       "      <th>dep_time</th>\n",
       "      <th>sched_dep_time</th>\n",
       "      <th>dep_delay</th>\n",
       "      <th>arr_time</th>\n",
       "      <th>sched_arr_time</th>\n",
       "      <th>arr_delay</th>\n",
       "      <th>carrier</th>\n",
       "      <th>flight</th>\n",
       "      <th>tailnum</th>\n",
       "      <th>origin</th>\n",
       "      <th>dest</th>\n",
       "      <th>air_time</th>\n",
       "      <th>distance</th>\n",
       "      <th>hour</th>\n",
       "      <th>minute</th>\n",
       "      <th>time_hour</th>\n",
       "    </tr>\n",
       "  </thead>\n",
       "  <tbody>\n",
       "    <tr>\n",
       "      <th>0</th>\n",
       "      <td>2013</td>\n",
       "      <td>1</td>\n",
       "      <td>1</td>\n",
       "      <td>517.0</td>\n",
       "      <td>515</td>\n",
       "      <td>2.0</td>\n",
       "      <td>830.0</td>\n",
       "      <td>819</td>\n",
       "      <td>11.0</td>\n",
       "      <td>UA</td>\n",
       "      <td>1545</td>\n",
       "      <td>N14228</td>\n",
       "      <td>EWR</td>\n",
       "      <td>IAH</td>\n",
       "      <td>227.0</td>\n",
       "      <td>1400</td>\n",
       "      <td>5</td>\n",
       "      <td>15</td>\n",
       "      <td>2013-01-01 05:00:00</td>\n",
       "    </tr>\n",
       "    <tr>\n",
       "      <th>1</th>\n",
       "      <td>2013</td>\n",
       "      <td>1</td>\n",
       "      <td>1</td>\n",
       "      <td>533.0</td>\n",
       "      <td>529</td>\n",
       "      <td>4.0</td>\n",
       "      <td>850.0</td>\n",
       "      <td>830</td>\n",
       "      <td>20.0</td>\n",
       "      <td>UA</td>\n",
       "      <td>1714</td>\n",
       "      <td>N24211</td>\n",
       "      <td>LGA</td>\n",
       "      <td>IAH</td>\n",
       "      <td>227.0</td>\n",
       "      <td>1416</td>\n",
       "      <td>5</td>\n",
       "      <td>29</td>\n",
       "      <td>2013-01-01 05:00:00</td>\n",
       "    </tr>\n",
       "    <tr>\n",
       "      <th>2</th>\n",
       "      <td>2013</td>\n",
       "      <td>1</td>\n",
       "      <td>1</td>\n",
       "      <td>542.0</td>\n",
       "      <td>540</td>\n",
       "      <td>2.0</td>\n",
       "      <td>923.0</td>\n",
       "      <td>850</td>\n",
       "      <td>33.0</td>\n",
       "      <td>AA</td>\n",
       "      <td>1141</td>\n",
       "      <td>N619AA</td>\n",
       "      <td>JFK</td>\n",
       "      <td>MIA</td>\n",
       "      <td>160.0</td>\n",
       "      <td>1089</td>\n",
       "      <td>5</td>\n",
       "      <td>40</td>\n",
       "      <td>2013-01-01 05:00:00</td>\n",
       "    </tr>\n",
       "    <tr>\n",
       "      <th>3</th>\n",
       "      <td>2013</td>\n",
       "      <td>1</td>\n",
       "      <td>1</td>\n",
       "      <td>544.0</td>\n",
       "      <td>545</td>\n",
       "      <td>-1.0</td>\n",
       "      <td>1004.0</td>\n",
       "      <td>1022</td>\n",
       "      <td>-18.0</td>\n",
       "      <td>B6</td>\n",
       "      <td>725</td>\n",
       "      <td>N804JB</td>\n",
       "      <td>JFK</td>\n",
       "      <td>BQN</td>\n",
       "      <td>183.0</td>\n",
       "      <td>1576</td>\n",
       "      <td>5</td>\n",
       "      <td>45</td>\n",
       "      <td>2013-01-01 05:00:00</td>\n",
       "    </tr>\n",
       "    <tr>\n",
       "      <th>4</th>\n",
       "      <td>2013</td>\n",
       "      <td>1</td>\n",
       "      <td>1</td>\n",
       "      <td>554.0</td>\n",
       "      <td>600</td>\n",
       "      <td>-6.0</td>\n",
       "      <td>812.0</td>\n",
       "      <td>837</td>\n",
       "      <td>-25.0</td>\n",
       "      <td>DL</td>\n",
       "      <td>461</td>\n",
       "      <td>N668DN</td>\n",
       "      <td>LGA</td>\n",
       "      <td>ATL</td>\n",
       "      <td>116.0</td>\n",
       "      <td>762</td>\n",
       "      <td>6</td>\n",
       "      <td>0</td>\n",
       "      <td>2013-01-01 06:00:00</td>\n",
       "    </tr>\n",
       "  </tbody>\n",
       "</table>\n",
       "</div>"
      ],
      "text/plain": [
       "   year  month  day  dep_time  sched_dep_time  dep_delay  arr_time  \\\n",
       "0  2013      1    1     517.0             515        2.0     830.0   \n",
       "1  2013      1    1     533.0             529        4.0     850.0   \n",
       "2  2013      1    1     542.0             540        2.0     923.0   \n",
       "3  2013      1    1     544.0             545       -1.0    1004.0   \n",
       "4  2013      1    1     554.0             600       -6.0     812.0   \n",
       "\n",
       "   sched_arr_time  arr_delay carrier  flight tailnum origin dest  air_time  \\\n",
       "0             819       11.0      UA    1545  N14228    EWR  IAH     227.0   \n",
       "1             830       20.0      UA    1714  N24211    LGA  IAH     227.0   \n",
       "2             850       33.0      AA    1141  N619AA    JFK  MIA     160.0   \n",
       "3            1022      -18.0      B6     725  N804JB    JFK  BQN     183.0   \n",
       "4             837      -25.0      DL     461  N668DN    LGA  ATL     116.0   \n",
       "\n",
       "   distance  hour  minute            time_hour  \n",
       "0      1400     5      15  2013-01-01 05:00:00  \n",
       "1      1416     5      29  2013-01-01 05:00:00  \n",
       "2      1089     5      40  2013-01-01 05:00:00  \n",
       "3      1576     5      45  2013-01-01 05:00:00  \n",
       "4       762     6       0  2013-01-01 06:00:00  "
      ]
     },
     "execution_count": 60,
     "metadata": {},
     "output_type": "execute_result"
    }
   ],
   "source": [
    "flights = pd.read_csv('data/flights.csv')\n",
    "flights.head()"
   ]
  },
  {
   "cell_type": "code",
   "execution_count": 61,
   "id": "fdb36043-a574-4b98-a31a-77f10a3236f3",
   "metadata": {},
   "outputs": [
    {
     "data": {
      "text/plain": [
       "PM    205755\n",
       "AM    131021\n",
       "Name: group, dtype: int64"
      ]
     },
     "execution_count": 61,
     "metadata": {},
     "output_type": "execute_result"
    }
   ],
   "source": [
    "# 오전 오후 분류 변수 추가\n",
    "flights['group'] = np.where(flights['hour'] < 12, 'AM', 'PM') \n",
    "flights['group'].value_counts()"
   ]
  },
  {
   "cell_type": "markdown",
   "id": "15eae6a4-d94c-45d9-ba71-ac0d56b98f93",
   "metadata": {},
   "source": [
    "Q9.오전과 오후의 항공편 출발 백분율을 출력하세요."
   ]
  },
  {
   "cell_type": "code",
   "execution_count": 62,
   "id": "df623f01-56c5-4c18-8125-66b9392b035d",
   "metadata": {},
   "outputs": [
    {
     "data": {
      "text/plain": [
       "PM    61.095506\n",
       "AM    38.904494\n",
       "Name: group, dtype: float64"
      ]
     },
     "execution_count": 62,
     "metadata": {},
     "output_type": "execute_result"
    }
   ],
   "source": [
    "flights['group'].value_counts(normalize = True)*100"
   ]
  },
  {
   "cell_type": "markdown",
   "id": "1490fbd8-ef21-497c-b5eb-bbc617dfb380",
   "metadata": {},
   "source": [
    "Q10. 오전에 출발하는 항공편이 어떤 공항으로 많이 가는지 알아보려고 합니다. 오전 출발 항공편의 목적지별 점유율을 출력하세요. 상위 5개 목적지만 출력되게 설정하세요."
   ]
  },
  {
   "cell_type": "code",
   "execution_count": 63,
   "id": "bb184d58-7536-4f36-b150-21973387c21c",
   "metadata": {},
   "outputs": [
    {
     "data": {
      "text/plain": [
       "ORD    5.543386\n",
       "ATL    5.309836\n",
       "CLT    4.868685\n",
       "LAX    4.683219\n",
       "SFO    4.623686\n",
       "Name: dest, dtype: float64"
      ]
     },
     "execution_count": 63,
     "metadata": {},
     "output_type": "execute_result"
    }
   ],
   "source": [
    "flights.query('group == \"AM\"') \\\n",
    "       ['dest'] \\\n",
    "       .value_counts(normalize = True) \\\n",
    "       .head()*100"
   ]
  }
 ],
 "metadata": {
  "jupytext": {
   "cell_metadata_filter": "-all",
   "notebook_metadata_filter": "-all"
  },
  "kernelspec": {
   "display_name": "Python 3 (ipykernel)",
   "language": "python",
   "name": "python3"
  },
  "language_info": {
   "codemirror_mode": {
    "name": "ipython",
    "version": 3
   },
   "file_extension": ".py",
   "mimetype": "text/x-python",
   "name": "python",
   "nbconvert_exporter": "python",
   "pygments_lexer": "ipython3",
   "version": "3.9.11"
  },
  "toc-autonumbering": false,
  "toc-showcode": false,
  "toc-showmarkdowntxt": false,
  "toc-showtags": false
 },
 "nbformat": 4,
 "nbformat_minor": 5
}
